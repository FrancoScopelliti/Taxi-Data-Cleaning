{
 "cells": [
  {
   "cell_type": "markdown",
   "metadata": {},
   "source": [
    "# Taxi Trip Geospatial Cleaning "
   ]
  },
  {
   "cell_type": "markdown",
   "metadata": {},
   "source": [
    "In this notebook we look to clean a dataset containing information around individual taxi trips in and around New York City. In particular we are focusing on the pickup and drop off locations of the trips. \n",
    "\n",
    "## Whats wrong with the data\n",
    "Below we can see that pickup and dropoff have very large ranges between their maximum and minimum coordinates. A quick google puts NYC between -73.7 and -74.26 longitude, and between  40.92 and 40.497 latitude which was much smaller than the ranges within the data.\n",
    "\n",
    "## How do we solve this?\n",
    "There is no one method to solving a problem like this, in this notebook we will be attempting to filter out bad points spatially. As in drawing a polygon around NYC where points outside the polygon should be removed from the sample. This polygon requiers a certain assumption as to where data is considered valid or not. In a business case this is a decision typically made by a SME (subject matter expert) or a PO (product owner).\n",
    "\n",
    "Our first step is to get rid of the obviously wrong data. Drawing a box or circle around the city with a certain size and then eliminating any points that reside outside of the polygon. This is crude but efficient, it will prove very effective when coupled with a mroe accurate second method.\n",
    "\n",
    "An assumption made for this notebook is that a taxi in NYC is far more likely to conduct its pickups within NYC than outisde. Thus a way to accurately identify bad data is to focus on the pickup-locations. We can restrict pickup locations to within ciity limits and restrict dropoff locations to the arbitrary bounding box."
   ]
  },
  {
   "cell_type": "code",
   "execution_count": 1,
   "metadata": {},
   "outputs": [],
   "source": [
    "import numpy as np\n",
    "import matplotlib as plt\n",
    "import pandas as pd\n",
    "import pyreadr\n",
    "import geopandas as gpd\n",
    "from shapely.geometry import Point\n",
    "from geopandas.tools import sjoin"
   ]
  },
  {
   "cell_type": "markdown",
   "metadata": {},
   "source": [
    "#### Using python with .rds (R data file) requires some conversion. In python the object we use is called a dataframe and it comes with the Pandas package."
   ]
  },
  {
   "cell_type": "code",
   "execution_count": 2,
   "metadata": {},
   "outputs": [
    {
     "data": {
      "text/plain": [
       "(14828759, 25)"
      ]
     },
     "execution_count": 2,
     "metadata": {},
     "output_type": "execute_result"
    }
   ],
   "source": [
    "# Read RDS file into pandas dataframe\n",
    "data = pyreadr.read_r('nyc_taxi_data_clean_medium.rds')\n",
    "df = data[None]\n",
    "df.shape"
   ]
  },
  {
   "cell_type": "markdown",
   "metadata": {},
   "source": [
    "#### Below we see the evidence of the distorted data. Range between min and max is far too big"
   ]
  },
  {
   "cell_type": "code",
   "execution_count": 3,
   "metadata": {},
   "outputs": [
    {
     "data": {
      "text/plain": [
       "count    1.482876e+07\n",
       "mean    -7.397209e+01\n",
       "std      5.687341e-01\n",
       "min     -1.578177e+02\n",
       "25%     -7.399230e+01\n",
       "50%     -7.398200e+01\n",
       "75%     -7.396786e+01\n",
       "max      1.009878e+02\n",
       "Name: pickup_longitude, dtype: float64"
      ]
     },
     "execution_count": 3,
     "metadata": {},
     "output_type": "execute_result"
    }
   ],
   "source": [
    "df['pickup_longitude'].describe() # Get basic data spread"
   ]
  },
  {
   "cell_type": "code",
   "execution_count": 4,
   "metadata": {},
   "outputs": [
    {
     "data": {
      "text/plain": [
       "count    1.482876e+07\n",
       "mean     4.074886e+01\n",
       "std      4.866608e-01\n",
       "min     -7.401636e+01\n",
       "25%      4.073654e+01\n",
       "50%      4.075343e+01\n",
       "75%      4.076788e+01\n",
       "max      7.401463e+01\n",
       "Name: pickup_latitude, dtype: float64"
      ]
     },
     "execution_count": 4,
     "metadata": {},
     "output_type": "execute_result"
    }
   ],
   "source": [
    "df['pickup_latitude'].describe()"
   ]
  },
  {
   "cell_type": "code",
   "execution_count": 5,
   "metadata": {},
   "outputs": [
    {
     "data": {
      "text/plain": [
       "count    1.482876e+07\n",
       "mean    -7.397145e+01\n",
       "std      5.783764e-01\n",
       "min     -1.578177e+02\n",
       "25%     -7.399161e+01\n",
       "50%     -7.398048e+01\n",
       "75%     -7.396500e+01\n",
       "max      1.009878e+02\n",
       "Name: dropoff_longitude, dtype: float64"
      ]
     },
     "execution_count": 5,
     "metadata": {},
     "output_type": "execute_result"
    }
   ],
   "source": [
    "df['dropoff_longitude'].describe()"
   ]
  },
  {
   "cell_type": "code",
   "execution_count": 6,
   "metadata": {},
   "outputs": [
    {
     "data": {
      "text/plain": [
       "count    1.482876e+07\n",
       "mean     4.074936e+01\n",
       "std      4.896054e-01\n",
       "min     -7.406991e+01\n",
       "25%      4.073556e+01\n",
       "50%      4.075394e+01\n",
       "75%      4.076857e+01\n",
       "max      7.403593e+01\n",
       "Name: dropoff_latitude, dtype: float64"
      ]
     },
     "execution_count": 6,
     "metadata": {},
     "output_type": "execute_result"
    }
   ],
   "source": [
    "df['dropoff_latitude'].describe()"
   ]
  },
  {
   "cell_type": "markdown",
   "metadata": {},
   "source": [
    "#### We should also confirm what data we have to work with other than the coordinates. Two in particular are useful. \n",
    "\n",
    "#### The first is bad_data_flag. This is what we will be updating to identify when a data point is suspected to be invalid. It also allows us to input some reasoning as to why the data is invalid.\n",
    "\n",
    "#### The second is randID. This can be used to select a subset of this data to operate on, especially useful if the machine you are operating on has low memory capacity."
   ]
  },
  {
   "cell_type": "code",
   "execution_count": 7,
   "metadata": {},
   "outputs": [],
   "source": [
    "ids_drop = np.arange(1, 21, 1).tolist() # list of ids to keep\n",
    "#df = df.drop(df[df['randID'] in (ids_keep)].index) # Sample the data ~80%\n",
    "df = df.drop(df[df.randID.isin(ids_drop)].index)"
   ]
  },
  {
   "cell_type": "code",
   "execution_count": 8,
   "metadata": {},
   "outputs": [
    {
     "name": "stdout",
     "output_type": "stream",
     "text": [
      "<class 'pandas.core.frame.DataFrame'>\n",
      "Int64Index: 11907957 entries, 0 to 14828757\n",
      "Data columns (total 25 columns):\n",
      " #   Column                Dtype   \n",
      "---  ------                -----   \n",
      " 0   medallion             object  \n",
      " 1   hack_license          object  \n",
      " 2   vendor_id             category\n",
      " 3   rate_code             category\n",
      " 4   store_and_fwd_flag    category\n",
      " 5   pickup_datetime       float64 \n",
      " 6   dropoff_datetime      float64 \n",
      " 7   passenger_count       int32   \n",
      " 8   trip_time_in_secs     int32   \n",
      " 9   trip_distance         float64 \n",
      " 10  pickup_longitude      float64 \n",
      " 11  pickup_latitude       float64 \n",
      " 12  dropoff_longitude     float64 \n",
      " 13  dropoff_latitude      float64 \n",
      " 14  payment_type          category\n",
      " 15  fare_amount           float64 \n",
      " 16  surcharge             float64 \n",
      " 17  mta_tax               float64 \n",
      " 18  tips                  float64 \n",
      " 19  tolls                 float64 \n",
      " 20  total_amount          float64 \n",
      " 21  randID                int32   \n",
      " 22  dropoff_minus_pickup  float64 \n",
      " 23  bad_data_flag         object  \n",
      " 24  tips_percent          float64 \n",
      "dtypes: category(4), float64(15), int32(3), object(3)\n",
      "memory usage: 4.2 GB\n"
     ]
    }
   ],
   "source": [
    "# See what columns we have to work with and how much memory we are using. Without sampling it would be 5.4gb in ram!\n",
    "# With 16gb of RAM this script can just run with the full dataset, but inconsistently. I would suggest using a sample.\n",
    "df.info(memory_usage='deep') "
   ]
  },
  {
   "cell_type": "markdown",
   "metadata": {},
   "source": [
    "#### The structure of the data doesn't change from R to a pyhton dataframe. We can explore through the data as such. "
   ]
  },
  {
   "cell_type": "code",
   "execution_count": 9,
   "metadata": {},
   "outputs": [
    {
     "name": "stdout",
     "output_type": "stream",
     "text": [
      "(11907957, 25)\n",
      "Index(['medallion', 'hack_license', 'vendor_id', 'rate_code',\n",
      "       'store_and_fwd_flag', 'pickup_datetime', 'dropoff_datetime',\n",
      "       'passenger_count', 'trip_time_in_secs', 'trip_distance',\n",
      "       'pickup_longitude', 'pickup_latitude', 'dropoff_longitude',\n",
      "       'dropoff_latitude', 'payment_type', 'fare_amount', 'surcharge',\n",
      "       'mta_tax', 'tips', 'tolls', 'total_amount', 'randID',\n",
      "       'dropoff_minus_pickup', 'bad_data_flag', 'tips_percent'],\n",
      "      dtype='object')\n"
     ]
    }
   ],
   "source": [
    "print(df.shape)\n",
    "print(df.columns)"
   ]
  },
  {
   "cell_type": "code",
   "execution_count": 10,
   "metadata": {},
   "outputs": [
    {
     "data": {
      "text/html": [
       "<div>\n",
       "<style scoped>\n",
       "    .dataframe tbody tr th:only-of-type {\n",
       "        vertical-align: middle;\n",
       "    }\n",
       "\n",
       "    .dataframe tbody tr th {\n",
       "        vertical-align: top;\n",
       "    }\n",
       "\n",
       "    .dataframe thead th {\n",
       "        text-align: right;\n",
       "    }\n",
       "</style>\n",
       "<table border=\"1\" class=\"dataframe\">\n",
       "  <thead>\n",
       "    <tr style=\"text-align: right;\">\n",
       "      <th></th>\n",
       "      <th>medallion</th>\n",
       "      <th>hack_license</th>\n",
       "      <th>vendor_id</th>\n",
       "      <th>rate_code</th>\n",
       "      <th>store_and_fwd_flag</th>\n",
       "      <th>pickup_datetime</th>\n",
       "      <th>dropoff_datetime</th>\n",
       "      <th>passenger_count</th>\n",
       "      <th>trip_time_in_secs</th>\n",
       "      <th>trip_distance</th>\n",
       "      <th>...</th>\n",
       "      <th>fare_amount</th>\n",
       "      <th>surcharge</th>\n",
       "      <th>mta_tax</th>\n",
       "      <th>tips</th>\n",
       "      <th>tolls</th>\n",
       "      <th>total_amount</th>\n",
       "      <th>randID</th>\n",
       "      <th>dropoff_minus_pickup</th>\n",
       "      <th>bad_data_flag</th>\n",
       "      <th>tips_percent</th>\n",
       "    </tr>\n",
       "  </thead>\n",
       "  <tbody>\n",
       "    <tr>\n",
       "      <th>0</th>\n",
       "      <td>91F6EB84975BBC867E32CB113C7C2CD5</td>\n",
       "      <td>AD8751110E6292079EB10EB9481FE1A6</td>\n",
       "      <td>CMT</td>\n",
       "      <td>1</td>\n",
       "      <td>N</td>\n",
       "      <td>15799.783160</td>\n",
       "      <td>15799.791956</td>\n",
       "      <td>1</td>\n",
       "      <td>759</td>\n",
       "      <td>2.50</td>\n",
       "      <td>...</td>\n",
       "      <td>11.0</td>\n",
       "      <td>1.0</td>\n",
       "      <td>0.5</td>\n",
       "      <td>2.50</td>\n",
       "      <td>0.0</td>\n",
       "      <td>15.00</td>\n",
       "      <td>53</td>\n",
       "      <td>0.008796</td>\n",
       "      <td></td>\n",
       "      <td>22.727273</td>\n",
       "    </tr>\n",
       "    <tr>\n",
       "      <th>1</th>\n",
       "      <td>C1B9DA774DC2BBC6DE27CE994E7F44A0</td>\n",
       "      <td>E1B595FD55E4C82C1E213EB17438107A</td>\n",
       "      <td>CMT</td>\n",
       "      <td>1</td>\n",
       "      <td>N</td>\n",
       "      <td>15799.749884</td>\n",
       "      <td>15799.765139</td>\n",
       "      <td>1</td>\n",
       "      <td>1318</td>\n",
       "      <td>3.60</td>\n",
       "      <td>...</td>\n",
       "      <td>16.5</td>\n",
       "      <td>1.0</td>\n",
       "      <td>0.5</td>\n",
       "      <td>3.60</td>\n",
       "      <td>0.0</td>\n",
       "      <td>21.60</td>\n",
       "      <td>68</td>\n",
       "      <td>0.015255</td>\n",
       "      <td></td>\n",
       "      <td>21.818182</td>\n",
       "    </tr>\n",
       "    <tr>\n",
       "      <th>2</th>\n",
       "      <td>9BA84250355AB3FC031C9252D395BF8A</td>\n",
       "      <td>16BB0D96A0DCC853AEC7F55C8D6C71E0</td>\n",
       "      <td>CMT</td>\n",
       "      <td>1</td>\n",
       "      <td>N</td>\n",
       "      <td>15799.758345</td>\n",
       "      <td>15799.767639</td>\n",
       "      <td>1</td>\n",
       "      <td>799</td>\n",
       "      <td>1.90</td>\n",
       "      <td>...</td>\n",
       "      <td>10.0</td>\n",
       "      <td>1.0</td>\n",
       "      <td>0.5</td>\n",
       "      <td>3.45</td>\n",
       "      <td>0.0</td>\n",
       "      <td>14.95</td>\n",
       "      <td>73</td>\n",
       "      <td>0.009294</td>\n",
       "      <td></td>\n",
       "      <td>34.500000</td>\n",
       "    </tr>\n",
       "    <tr>\n",
       "      <th>3</th>\n",
       "      <td>205A696DF62AD03C88DA8C5EC5248639</td>\n",
       "      <td>579C41EA5EC846F8B641A42F9EE3E855</td>\n",
       "      <td>CMT</td>\n",
       "      <td>1</td>\n",
       "      <td>N</td>\n",
       "      <td>15799.842326</td>\n",
       "      <td>15799.854109</td>\n",
       "      <td>1</td>\n",
       "      <td>1017</td>\n",
       "      <td>3.60</td>\n",
       "      <td>...</td>\n",
       "      <td>15.0</td>\n",
       "      <td>0.5</td>\n",
       "      <td>0.5</td>\n",
       "      <td>3.20</td>\n",
       "      <td>0.0</td>\n",
       "      <td>19.20</td>\n",
       "      <td>39</td>\n",
       "      <td>0.011782</td>\n",
       "      <td></td>\n",
       "      <td>21.333333</td>\n",
       "    </tr>\n",
       "    <tr>\n",
       "      <th>4</th>\n",
       "      <td>EE75E5927D00739AC342810C336A825E</td>\n",
       "      <td>1B4E92431F9DA4D49874EC76E769E874</td>\n",
       "      <td>CMT</td>\n",
       "      <td>1</td>\n",
       "      <td>N</td>\n",
       "      <td>15800.116794</td>\n",
       "      <td>15800.118993</td>\n",
       "      <td>2</td>\n",
       "      <td>189</td>\n",
       "      <td>0.70</td>\n",
       "      <td>...</td>\n",
       "      <td>4.5</td>\n",
       "      <td>0.5</td>\n",
       "      <td>0.5</td>\n",
       "      <td>1.10</td>\n",
       "      <td>0.0</td>\n",
       "      <td>6.60</td>\n",
       "      <td>76</td>\n",
       "      <td>0.002199</td>\n",
       "      <td></td>\n",
       "      <td>24.444444</td>\n",
       "    </tr>\n",
       "    <tr>\n",
       "      <th>...</th>\n",
       "      <td>...</td>\n",
       "      <td>...</td>\n",
       "      <td>...</td>\n",
       "      <td>...</td>\n",
       "      <td>...</td>\n",
       "      <td>...</td>\n",
       "      <td>...</td>\n",
       "      <td>...</td>\n",
       "      <td>...</td>\n",
       "      <td>...</td>\n",
       "      <td>...</td>\n",
       "      <td>...</td>\n",
       "      <td>...</td>\n",
       "      <td>...</td>\n",
       "      <td>...</td>\n",
       "      <td>...</td>\n",
       "      <td>...</td>\n",
       "      <td>...</td>\n",
       "      <td>...</td>\n",
       "      <td>...</td>\n",
       "      <td>...</td>\n",
       "    </tr>\n",
       "    <tr>\n",
       "      <th>1209</th>\n",
       "      <td>D50A71723971D17F3ED84996BEC2E5B8</td>\n",
       "      <td>EE6C338087DEBEAF866A6FE6D03CD1B1</td>\n",
       "      <td>VTS</td>\n",
       "      <td>1</td>\n",
       "      <td></td>\n",
       "      <td>15807.972222</td>\n",
       "      <td>15807.981250</td>\n",
       "      <td>1</td>\n",
       "      <td>780</td>\n",
       "      <td>1.97</td>\n",
       "      <td>...</td>\n",
       "      <td>10.5</td>\n",
       "      <td>0.5</td>\n",
       "      <td>0.5</td>\n",
       "      <td>0.00</td>\n",
       "      <td>0.0</td>\n",
       "      <td>11.50</td>\n",
       "      <td>34</td>\n",
       "      <td>0.009028</td>\n",
       "      <td></td>\n",
       "      <td>0.000000</td>\n",
       "    </tr>\n",
       "    <tr>\n",
       "      <th>1211</th>\n",
       "      <td>9DD19F870C9E838A8FDA3BF0F5CD35C7</td>\n",
       "      <td>65F3F6A405DA703059A001C9A807FFB7</td>\n",
       "      <td>VTS</td>\n",
       "      <td>1</td>\n",
       "      <td></td>\n",
       "      <td>15807.966667</td>\n",
       "      <td>15807.981944</td>\n",
       "      <td>1</td>\n",
       "      <td>1320</td>\n",
       "      <td>3.30</td>\n",
       "      <td>...</td>\n",
       "      <td>16.5</td>\n",
       "      <td>0.5</td>\n",
       "      <td>0.5</td>\n",
       "      <td>0.00</td>\n",
       "      <td>0.0</td>\n",
       "      <td>17.50</td>\n",
       "      <td>24</td>\n",
       "      <td>0.015278</td>\n",
       "      <td></td>\n",
       "      <td>0.000000</td>\n",
       "    </tr>\n",
       "    <tr>\n",
       "      <th>1212</th>\n",
       "      <td>DC964A554608C7B5F92457588816A22B</td>\n",
       "      <td>302AE56ACEF3AA54D3DE0842855EC4D0</td>\n",
       "      <td>VTS</td>\n",
       "      <td>1</td>\n",
       "      <td></td>\n",
       "      <td>15807.964583</td>\n",
       "      <td>15807.981944</td>\n",
       "      <td>1</td>\n",
       "      <td>1500</td>\n",
       "      <td>5.65</td>\n",
       "      <td>...</td>\n",
       "      <td>21.5</td>\n",
       "      <td>0.5</td>\n",
       "      <td>0.5</td>\n",
       "      <td>4.40</td>\n",
       "      <td>0.0</td>\n",
       "      <td>26.90</td>\n",
       "      <td>67</td>\n",
       "      <td>0.017361</td>\n",
       "      <td></td>\n",
       "      <td>20.465116</td>\n",
       "    </tr>\n",
       "    <tr>\n",
       "      <th>1213</th>\n",
       "      <td>FE444AF957F4ACED1BB0275389C071CC</td>\n",
       "      <td>816EC8779A10B1FDAB9E0A9146C9540A</td>\n",
       "      <td>VTS</td>\n",
       "      <td>1</td>\n",
       "      <td></td>\n",
       "      <td>15807.976389</td>\n",
       "      <td>15807.983333</td>\n",
       "      <td>1</td>\n",
       "      <td>600</td>\n",
       "      <td>1.54</td>\n",
       "      <td>...</td>\n",
       "      <td>8.0</td>\n",
       "      <td>0.5</td>\n",
       "      <td>0.5</td>\n",
       "      <td>1.70</td>\n",
       "      <td>0.0</td>\n",
       "      <td>10.70</td>\n",
       "      <td>31</td>\n",
       "      <td>0.006944</td>\n",
       "      <td></td>\n",
       "      <td>21.250000</td>\n",
       "    </tr>\n",
       "    <tr>\n",
       "      <th>1214</th>\n",
       "      <td>262E47307C21E83C554CBC776F162B6C</td>\n",
       "      <td>B5CE73E0085CB1F65B05EC8CDF1CB2EB</td>\n",
       "      <td>VTS</td>\n",
       "      <td>1</td>\n",
       "      <td></td>\n",
       "      <td>15807.979167</td>\n",
       "      <td>15807.983333</td>\n",
       "      <td>1</td>\n",
       "      <td>360</td>\n",
       "      <td>1.24</td>\n",
       "      <td>...</td>\n",
       "      <td>6.5</td>\n",
       "      <td>0.5</td>\n",
       "      <td>0.5</td>\n",
       "      <td>0.00</td>\n",
       "      <td>0.0</td>\n",
       "      <td>7.50</td>\n",
       "      <td>22</td>\n",
       "      <td>0.004167</td>\n",
       "      <td></td>\n",
       "      <td>0.000000</td>\n",
       "    </tr>\n",
       "  </tbody>\n",
       "</table>\n",
       "<p>1000 rows × 25 columns</p>\n",
       "</div>"
      ],
      "text/plain": [
       "                             medallion                      hack_license  \\\n",
       "0     91F6EB84975BBC867E32CB113C7C2CD5  AD8751110E6292079EB10EB9481FE1A6   \n",
       "1     C1B9DA774DC2BBC6DE27CE994E7F44A0  E1B595FD55E4C82C1E213EB17438107A   \n",
       "2     9BA84250355AB3FC031C9252D395BF8A  16BB0D96A0DCC853AEC7F55C8D6C71E0   \n",
       "3     205A696DF62AD03C88DA8C5EC5248639  579C41EA5EC846F8B641A42F9EE3E855   \n",
       "4     EE75E5927D00739AC342810C336A825E  1B4E92431F9DA4D49874EC76E769E874   \n",
       "...                                ...                               ...   \n",
       "1209  D50A71723971D17F3ED84996BEC2E5B8  EE6C338087DEBEAF866A6FE6D03CD1B1   \n",
       "1211  9DD19F870C9E838A8FDA3BF0F5CD35C7  65F3F6A405DA703059A001C9A807FFB7   \n",
       "1212  DC964A554608C7B5F92457588816A22B  302AE56ACEF3AA54D3DE0842855EC4D0   \n",
       "1213  FE444AF957F4ACED1BB0275389C071CC  816EC8779A10B1FDAB9E0A9146C9540A   \n",
       "1214  262E47307C21E83C554CBC776F162B6C  B5CE73E0085CB1F65B05EC8CDF1CB2EB   \n",
       "\n",
       "     vendor_id rate_code store_and_fwd_flag  pickup_datetime  \\\n",
       "0          CMT         1                  N     15799.783160   \n",
       "1          CMT         1                  N     15799.749884   \n",
       "2          CMT         1                  N     15799.758345   \n",
       "3          CMT         1                  N     15799.842326   \n",
       "4          CMT         1                  N     15800.116794   \n",
       "...        ...       ...                ...              ...   \n",
       "1209       VTS         1                        15807.972222   \n",
       "1211       VTS         1                        15807.966667   \n",
       "1212       VTS         1                        15807.964583   \n",
       "1213       VTS         1                        15807.976389   \n",
       "1214       VTS         1                        15807.979167   \n",
       "\n",
       "      dropoff_datetime  passenger_count  trip_time_in_secs  trip_distance  \\\n",
       "0         15799.791956                1                759           2.50   \n",
       "1         15799.765139                1               1318           3.60   \n",
       "2         15799.767639                1                799           1.90   \n",
       "3         15799.854109                1               1017           3.60   \n",
       "4         15800.118993                2                189           0.70   \n",
       "...                ...              ...                ...            ...   \n",
       "1209      15807.981250                1                780           1.97   \n",
       "1211      15807.981944                1               1320           3.30   \n",
       "1212      15807.981944                1               1500           5.65   \n",
       "1213      15807.983333                1                600           1.54   \n",
       "1214      15807.983333                1                360           1.24   \n",
       "\n",
       "      ...  fare_amount  surcharge  mta_tax  tips tolls  total_amount  randID  \\\n",
       "0     ...         11.0        1.0      0.5  2.50   0.0         15.00      53   \n",
       "1     ...         16.5        1.0      0.5  3.60   0.0         21.60      68   \n",
       "2     ...         10.0        1.0      0.5  3.45   0.0         14.95      73   \n",
       "3     ...         15.0        0.5      0.5  3.20   0.0         19.20      39   \n",
       "4     ...          4.5        0.5      0.5  1.10   0.0          6.60      76   \n",
       "...   ...          ...        ...      ...   ...   ...           ...     ...   \n",
       "1209  ...         10.5        0.5      0.5  0.00   0.0         11.50      34   \n",
       "1211  ...         16.5        0.5      0.5  0.00   0.0         17.50      24   \n",
       "1212  ...         21.5        0.5      0.5  4.40   0.0         26.90      67   \n",
       "1213  ...          8.0        0.5      0.5  1.70   0.0         10.70      31   \n",
       "1214  ...          6.5        0.5      0.5  0.00   0.0          7.50      22   \n",
       "\n",
       "      dropoff_minus_pickup  bad_data_flag  tips_percent  \n",
       "0                 0.008796                    22.727273  \n",
       "1                 0.015255                    21.818182  \n",
       "2                 0.009294                    34.500000  \n",
       "3                 0.011782                    21.333333  \n",
       "4                 0.002199                    24.444444  \n",
       "...                    ...            ...           ...  \n",
       "1209              0.009028                     0.000000  \n",
       "1211              0.015278                     0.000000  \n",
       "1212              0.017361                    20.465116  \n",
       "1213              0.006944                    21.250000  \n",
       "1214              0.004167                     0.000000  \n",
       "\n",
       "[1000 rows x 25 columns]"
      ]
     },
     "execution_count": 10,
     "metadata": {},
     "output_type": "execute_result"
    }
   ],
   "source": [
    "df.head(1000)"
   ]
  },
  {
   "cell_type": "markdown",
   "metadata": {},
   "source": [
    "#### In this example we are going to limit the NYC taxi services to NYC boundaries. This may turn out to be too restrictive as there are many close destinations outside NYC limits e.g. Newark airport. This example should still work with a different shape file that is larger, for example the state of NY.\n",
    "\n",
    "#### We can load in a 'shapefile' which contains boundry points along the edges of NYC districts as well as metadata around those districts. The boundaries form polygons which make it easier for us to test with."
   ]
  },
  {
   "cell_type": "code",
   "execution_count": 11,
   "metadata": {},
   "outputs": [
    {
     "data": {
      "text/plain": [
       "<matplotlib.axes._subplots.AxesSubplot at 0x10bf8540908>"
      ]
     },
     "execution_count": 11,
     "metadata": {},
     "output_type": "execute_result"
    },
    {
     "data": {
      "image/png": "[encoded data removed]",
      "text/plain": [
       "<Figure size 432x288 with 1 Axes>"
      ]
     },
     "metadata": {
      "needs_background": "light"
     },
     "output_type": "display_data"
    }
   ],
   "source": [
    "# Read in shapefile as a GeoPandas GeoDataframe. Very similar to pandas but with some metadata\n",
    "shape=gpd.read_file('BoroughBoundaries/geo_export_38393e35-ee4f-452c-926a-fd0fd2836963.shp')\n",
    "shape.plot()"
   ]
  },
  {
   "cell_type": "code",
   "execution_count": 12,
   "metadata": {},
   "outputs": [
    {
     "data": {
      "text/plain": [
       "<matplotlib.axes._subplots.AxesSubplot at 0x10bf869ae10>"
      ]
     },
     "execution_count": 12,
     "metadata": {},
     "output_type": "execute_result"
    },
    {
     "data": {
      "image/png": "[encoded data removed]",
      "text/plain": [
       "<Figure size 432x288 with 1 Axes>"
      ]
     },
     "metadata": {
      "needs_background": "light"
     },
     "output_type": "display_data"
    }
   ],
   "source": [
    "shape.boundary.plot()"
   ]
  },
  {
   "cell_type": "code",
   "execution_count": 13,
   "metadata": {},
   "outputs": [
    {
     "data": {
      "text/plain": [
       "geopandas.geodataframe.GeoDataFrame"
      ]
     },
     "execution_count": 13,
     "metadata": {},
     "output_type": "execute_result"
    }
   ],
   "source": [
    "type(shape) "
   ]
  },
  {
   "cell_type": "code",
   "execution_count": 14,
   "metadata": {},
   "outputs": [
    {
     "data": {
      "text/plain": [
       "<Geographic 2D CRS: EPSG:4326>\n",
       "Name: WGS 84\n",
       "Axis Info [ellipsoidal]:\n",
       "- Lat[north]: Geodetic latitude (degree)\n",
       "- Lon[east]: Geodetic longitude (degree)\n",
       "Area of Use:\n",
       "- name: World\n",
       "- bounds: (-180.0, -90.0, 180.0, 90.0)\n",
       "Datum: World Geodetic System 1984\n",
       "- Ellipsoid: WGS 84\n",
       "- Prime Meridian: Greenwich"
      ]
     },
     "execution_count": 14,
     "metadata": {},
     "output_type": "execute_result"
    }
   ],
   "source": [
    "shape.crs # Metadata, important that this is the same projection (WGS 84) between geodataframes that interact"
   ]
  },
  {
   "cell_type": "markdown",
   "metadata": {},
   "source": [
    "#### The shape file when loaded in with GeoPandas is basically just a dataframe with each polygon as an entry. The polygons themselves are their own object type which strings together a list of coordinates."
   ]
  },
  {
   "cell_type": "code",
   "execution_count": 15,
   "metadata": {},
   "outputs": [
    {
     "data": {
      "text/html": [
       "<div>\n",
       "<style scoped>\n",
       "    .dataframe tbody tr th:only-of-type {\n",
       "        vertical-align: middle;\n",
       "    }\n",
       "\n",
       "    .dataframe tbody tr th {\n",
       "        vertical-align: top;\n",
       "    }\n",
       "\n",
       "    .dataframe thead th {\n",
       "        text-align: right;\n",
       "    }\n",
       "</style>\n",
       "<table border=\"1\" class=\"dataframe\">\n",
       "  <thead>\n",
       "    <tr style=\"text-align: right;\">\n",
       "      <th></th>\n",
       "      <th>boro_code</th>\n",
       "      <th>boro_name</th>\n",
       "      <th>shape_area</th>\n",
       "      <th>shape_leng</th>\n",
       "      <th>geometry</th>\n",
       "    </tr>\n",
       "  </thead>\n",
       "  <tbody>\n",
       "    <tr>\n",
       "      <th>0</th>\n",
       "      <td>2.0</td>\n",
       "      <td>Bronx</td>\n",
       "      <td>1.186612e+09</td>\n",
       "      <td>462958.187537</td>\n",
       "      <td>MULTIPOLYGON (((-73.89681 40.79581, -73.89694 ...</td>\n",
       "    </tr>\n",
       "    <tr>\n",
       "      <th>1</th>\n",
       "      <td>5.0</td>\n",
       "      <td>Staten Island</td>\n",
       "      <td>1.623757e+09</td>\n",
       "      <td>325956.009000</td>\n",
       "      <td>MULTIPOLYGON (((-74.05051 40.56642, -74.05047 ...</td>\n",
       "    </tr>\n",
       "    <tr>\n",
       "      <th>2</th>\n",
       "      <td>1.0</td>\n",
       "      <td>Manhattan</td>\n",
       "      <td>6.366027e+08</td>\n",
       "      <td>361212.476363</td>\n",
       "      <td>MULTIPOLYGON (((-74.01093 40.68449, -74.01193 ...</td>\n",
       "    </tr>\n",
       "    <tr>\n",
       "      <th>3</th>\n",
       "      <td>3.0</td>\n",
       "      <td>Brooklyn</td>\n",
       "      <td>1.937593e+09</td>\n",
       "      <td>738745.842046</td>\n",
       "      <td>MULTIPOLYGON (((-73.86706 40.58209, -73.86769 ...</td>\n",
       "    </tr>\n",
       "    <tr>\n",
       "      <th>4</th>\n",
       "      <td>4.0</td>\n",
       "      <td>Queens</td>\n",
       "      <td>3.045878e+09</td>\n",
       "      <td>904191.432610</td>\n",
       "      <td>MULTIPOLYGON (((-73.83668 40.59495, -73.83678 ...</td>\n",
       "    </tr>\n",
       "  </tbody>\n",
       "</table>\n",
       "</div>"
      ],
      "text/plain": [
       "   boro_code      boro_name    shape_area     shape_leng  \\\n",
       "0        2.0          Bronx  1.186612e+09  462958.187537   \n",
       "1        5.0  Staten Island  1.623757e+09  325956.009000   \n",
       "2        1.0      Manhattan  6.366027e+08  361212.476363   \n",
       "3        3.0       Brooklyn  1.937593e+09  738745.842046   \n",
       "4        4.0         Queens  3.045878e+09  904191.432610   \n",
       "\n",
       "                                            geometry  \n",
       "0  MULTIPOLYGON (((-73.89681 40.79581, -73.89694 ...  \n",
       "1  MULTIPOLYGON (((-74.05051 40.56642, -74.05047 ...  \n",
       "2  MULTIPOLYGON (((-74.01093 40.68449, -74.01193 ...  \n",
       "3  MULTIPOLYGON (((-73.86706 40.58209, -73.86769 ...  \n",
       "4  MULTIPOLYGON (((-73.83668 40.59495, -73.83678 ...  "
      ]
     },
     "execution_count": 15,
     "metadata": {},
     "output_type": "execute_result"
    }
   ],
   "source": [
    "shape.head()"
   ]
  },
  {
   "cell_type": "markdown",
   "metadata": {},
   "source": [
    "#### A bounding box is a crude  but efficient way of handling the data. We will use it here to speed up our computation as it can get rid of the mostly obvious examples. From there we can use a more advanced method on more ambiguous answers. The bounding box will also serve to  bound the drop-offs, it seems a logical assumption that NYC taxis are more likely to pick up inside the city bounds and leave, than pickup outside the city bounds and come in. This logic could be extended to limiting pickups inside NYC and drop offs inside NY state.\n",
    "\n",
    "#### The box here is just the min/max latitude and longitude of NYC, this could be easily extended to what you see fit."
   ]
  },
  {
   "cell_type": "code",
   "execution_count": 16,
   "metadata": {},
   "outputs": [
    {
     "data": {
      "text/html": [
       "<div>\n",
       "<style scoped>\n",
       "    .dataframe tbody tr th:only-of-type {\n",
       "        vertical-align: middle;\n",
       "    }\n",
       "\n",
       "    .dataframe tbody tr th {\n",
       "        vertical-align: top;\n",
       "    }\n",
       "\n",
       "    .dataframe thead th {\n",
       "        text-align: right;\n",
       "    }\n",
       "</style>\n",
       "<table border=\"1\" class=\"dataframe\">\n",
       "  <thead>\n",
       "    <tr style=\"text-align: right;\">\n",
       "      <th></th>\n",
       "      <th>minx</th>\n",
       "      <th>miny</th>\n",
       "      <th>maxx</th>\n",
       "      <th>maxy</th>\n",
       "    </tr>\n",
       "  </thead>\n",
       "  <tbody>\n",
       "    <tr>\n",
       "      <th>0</th>\n",
       "      <td>-73.933606</td>\n",
       "      <td>40.785357</td>\n",
       "      <td>-73.765332</td>\n",
       "      <td>40.915533</td>\n",
       "    </tr>\n",
       "    <tr>\n",
       "      <th>1</th>\n",
       "      <td>-74.255591</td>\n",
       "      <td>40.496115</td>\n",
       "      <td>-74.049236</td>\n",
       "      <td>40.648926</td>\n",
       "    </tr>\n",
       "    <tr>\n",
       "      <th>2</th>\n",
       "      <td>-74.047730</td>\n",
       "      <td>40.682917</td>\n",
       "      <td>-73.906651</td>\n",
       "      <td>40.879038</td>\n",
       "    </tr>\n",
       "    <tr>\n",
       "      <th>3</th>\n",
       "      <td>-74.041897</td>\n",
       "      <td>40.569530</td>\n",
       "      <td>-73.833559</td>\n",
       "      <td>40.739128</td>\n",
       "    </tr>\n",
       "    <tr>\n",
       "      <th>4</th>\n",
       "      <td>-73.962620</td>\n",
       "      <td>40.541834</td>\n",
       "      <td>-73.700009</td>\n",
       "      <td>40.801011</td>\n",
       "    </tr>\n",
       "  </tbody>\n",
       "</table>\n",
       "</div>"
      ],
      "text/plain": [
       "        minx       miny       maxx       maxy\n",
       "0 -73.933606  40.785357 -73.765332  40.915533\n",
       "1 -74.255591  40.496115 -74.049236  40.648926\n",
       "2 -74.047730  40.682917 -73.906651  40.879038\n",
       "3 -74.041897  40.569530 -73.833559  40.739128\n",
       "4 -73.962620  40.541834 -73.700009  40.801011"
      ]
     },
     "execution_count": 16,
     "metadata": {},
     "output_type": "execute_result"
    }
   ],
   "source": [
    "# Get the max/min of each NYC precint\n",
    "bounds_df = shape.bounds\n",
    "bounds_df"
   ]
  },
  {
   "cell_type": "code",
   "execution_count": 17,
   "metadata": {},
   "outputs": [
    {
     "data": {
      "text/plain": [
       "(-73.7000090638712, -74.25559136315213, 40.91553277600008, 40.49611539518921)"
      ]
     },
     "execution_count": 17,
     "metadata": {},
     "output_type": "execute_result"
    }
   ],
   "source": [
    "# Get the max/min of all the precincts so we can create a box around NYC\n",
    "maxlong, maxlat, minlong, minlat = max(bounds_df['maxx']), max(bounds_df['maxy']), min(bounds_df['minx']), min(bounds_df['miny'])\n",
    "maxlong, minlong, maxlat,  minlat"
   ]
  },
  {
   "cell_type": "markdown",
   "metadata": {},
   "source": [
    "#### Flag all the data outside the bounding box with a identifying tag"
   ]
  },
  {
   "cell_type": "code",
   "execution_count": 18,
   "metadata": {},
   "outputs": [],
   "source": [
    "# Any points at all outisde of this box will be labelled as bad data\n",
    "df['bad_data_flag'] = np.where(df['pickup_latitude'] > maxlat, df['bad_data_flag'] + 'latitude above max ', df['bad_data_flag'])\n",
    "df['bad_data_flag'] = np.where(df['pickup_latitude'] < minlat, df['bad_data_flag'] + 'latitude below min ', df['bad_data_flag'])"
   ]
  },
  {
   "cell_type": "code",
   "execution_count": 19,
   "metadata": {},
   "outputs": [],
   "source": [
    "df['bad_data_flag'] = np.where(df['pickup_longitude'] > maxlong, df['bad_data_flag'] + 'longitude above max ', df['bad_data_flag'])\n",
    "df['bad_data_flag'] = np.where(df['pickup_longitude'] < minlong, df['bad_data_flag'] + 'longitude below min ', df['bad_data_flag'])"
   ]
  },
  {
   "cell_type": "code",
   "execution_count": 20,
   "metadata": {},
   "outputs": [],
   "source": [
    "df['bad_data_flag'] = np.where(df['dropoff_latitude'] > maxlat, df['bad_data_flag'] + 'latitude above max ', df['bad_data_flag'])\n",
    "df['bad_data_flag'] = np.where(df['dropoff_latitude'] < minlat, df['bad_data_flag'] + 'latitude below min ', df['bad_data_flag'])"
   ]
  },
  {
   "cell_type": "code",
   "execution_count": 21,
   "metadata": {},
   "outputs": [],
   "source": [
    "df['bad_data_flag'] = np.where(df['dropoff_longitude'] > maxlong, df['bad_data_flag'] + 'longitude above max ', df['bad_data_flag'])\n",
    "df['bad_data_flag'] = np.where(df['dropoff_longitude'] < minlong, df['bad_data_flag'] + 'longitude below min ', df['bad_data_flag'])"
   ]
  },
  {
   "cell_type": "code",
   "execution_count": 22,
   "metadata": {},
   "outputs": [
    {
     "data": {
      "text/plain": [
       "(9166, 25)"
      ]
     },
     "execution_count": 22,
     "metadata": {},
     "output_type": "execute_result"
    }
   ],
   "source": [
    "df[df['bad_data_flag'] != ''].shape # Bad data"
   ]
  },
  {
   "cell_type": "markdown",
   "metadata": {},
   "source": [
    "#### Bounding box got rid 113 taxi trips which had any of their trip details start/end outside of the bounding box. "
   ]
  },
  {
   "cell_type": "markdown",
   "metadata": {},
   "source": [
    "#### We'll now operate on the leftover data."
   ]
  },
  {
   "cell_type": "code",
   "execution_count": 23,
   "metadata": {},
   "outputs": [],
   "source": [
    "df_after_bound = df[df['bad_data_flag'] == ''] # New dataframe with only good data"
   ]
  },
  {
   "cell_type": "markdown",
   "metadata": {},
   "source": [
    "#### Get a list of the pickup points of every trip in a shapely.Point format so we can do polygonal comparison with the shapefile. Here we only use pickups because we are assuming that NYC taxis only pickup customers within the city limits."
   ]
  },
  {
   "cell_type": "code",
   "execution_count": 24,
   "metadata": {},
   "outputs": [],
   "source": [
    "geometry = [Point(xy) for xy in zip(df_after_bound['pickup_longitude'], df_after_bound['pickup_latitude'])] # zipping to columns into a Point(xy)"
   ]
  },
  {
   "cell_type": "code",
   "execution_count": 25,
   "metadata": {},
   "outputs": [
    {
     "data": {
      "text/plain": [
       "shapely.geometry.point.Point"
      ]
     },
     "execution_count": 25,
     "metadata": {},
     "output_type": "execute_result"
    }
   ],
   "source": [
    "type(geometry[0])"
   ]
  },
  {
   "cell_type": "markdown",
   "metadata": {},
   "source": [
    "#### Turn the original data into a geodataframe with the previously calculated pickup points as the geometry for each trip. What we also do here is label each taxi trip with the name of the precinct in New York that the trip started. Trips that don't start inside the city will have a 'nan' in that place."
   ]
  },
  {
   "cell_type": "code",
   "execution_count": 26,
   "metadata": {},
   "outputs": [],
   "source": [
    "pickups = gpd.GeoDataFrame(df_after_bound, crs=shape.crs , geometry=geometry) # Turn those points into a gepdataframe with the same metadata"
   ]
  },
  {
   "cell_type": "code",
   "execution_count": 27,
   "metadata": {},
   "outputs": [
    {
     "data": {
      "text/plain": [
       "geopandas.geodataframe.GeoDataFrame"
      ]
     },
     "execution_count": 27,
     "metadata": {},
     "output_type": "execute_result"
    }
   ],
   "source": [
    "type(pickups)"
   ]
  },
  {
   "cell_type": "markdown",
   "metadata": {},
   "source": [
    "#### The final dataset is created with a spatial join between the pickup locations and the NYC boundaries. Note that this also will exclude the spaces between boundaries and in the water. A spatial join basically treats the boundary dataset as a mask and attributed its information only to those data points that fall within the mask."
   ]
  },
  {
   "cell_type": "markdown",
   "metadata": {},
   "source": [
    "Note: at this point the script tends to take a while when using a larger portion of the dataset, beware."
   ]
  },
  {
   "cell_type": "code",
   "execution_count": 28,
   "metadata": {},
   "outputs": [],
   "source": [
    "pointInPolys = sjoin(pickups, shape, how='left',op=\"within\") # Spatial join between two geodataframes, shape is the mask"
   ]
  },
  {
   "cell_type": "code",
   "execution_count": 29,
   "metadata": {},
   "outputs": [
    {
     "data": {
      "text/html": [
       "<div>\n",
       "<style scoped>\n",
       "    .dataframe tbody tr th:only-of-type {\n",
       "        vertical-align: middle;\n",
       "    }\n",
       "\n",
       "    .dataframe tbody tr th {\n",
       "        vertical-align: top;\n",
       "    }\n",
       "\n",
       "    .dataframe thead th {\n",
       "        text-align: right;\n",
       "    }\n",
       "</style>\n",
       "<table border=\"1\" class=\"dataframe\">\n",
       "  <thead>\n",
       "    <tr style=\"text-align: right;\">\n",
       "      <th></th>\n",
       "      <th>medallion</th>\n",
       "      <th>hack_license</th>\n",
       "      <th>vendor_id</th>\n",
       "      <th>rate_code</th>\n",
       "      <th>store_and_fwd_flag</th>\n",
       "      <th>pickup_datetime</th>\n",
       "      <th>dropoff_datetime</th>\n",
       "      <th>passenger_count</th>\n",
       "      <th>trip_time_in_secs</th>\n",
       "      <th>trip_distance</th>\n",
       "      <th>...</th>\n",
       "      <th>randID</th>\n",
       "      <th>dropoff_minus_pickup</th>\n",
       "      <th>bad_data_flag</th>\n",
       "      <th>tips_percent</th>\n",
       "      <th>geometry</th>\n",
       "      <th>index_right</th>\n",
       "      <th>boro_code</th>\n",
       "      <th>boro_name</th>\n",
       "      <th>shape_area</th>\n",
       "      <th>shape_leng</th>\n",
       "    </tr>\n",
       "  </thead>\n",
       "  <tbody>\n",
       "    <tr>\n",
       "      <th>0</th>\n",
       "      <td>91F6EB84975BBC867E32CB113C7C2CD5</td>\n",
       "      <td>AD8751110E6292079EB10EB9481FE1A6</td>\n",
       "      <td>CMT</td>\n",
       "      <td>1</td>\n",
       "      <td>N</td>\n",
       "      <td>15799.783160</td>\n",
       "      <td>15799.791956</td>\n",
       "      <td>1</td>\n",
       "      <td>759</td>\n",
       "      <td>2.5</td>\n",
       "      <td>...</td>\n",
       "      <td>53</td>\n",
       "      <td>0.008796</td>\n",
       "      <td></td>\n",
       "      <td>22.727273</td>\n",
       "      <td>POINT (-73.95785 40.76532)</td>\n",
       "      <td>2.0</td>\n",
       "      <td>1.0</td>\n",
       "      <td>Manhattan</td>\n",
       "      <td>6.366027e+08</td>\n",
       "      <td>361212.476363</td>\n",
       "    </tr>\n",
       "    <tr>\n",
       "      <th>1</th>\n",
       "      <td>C1B9DA774DC2BBC6DE27CE994E7F44A0</td>\n",
       "      <td>E1B595FD55E4C82C1E213EB17438107A</td>\n",
       "      <td>CMT</td>\n",
       "      <td>1</td>\n",
       "      <td>N</td>\n",
       "      <td>15799.749884</td>\n",
       "      <td>15799.765139</td>\n",
       "      <td>1</td>\n",
       "      <td>1318</td>\n",
       "      <td>3.6</td>\n",
       "      <td>...</td>\n",
       "      <td>68</td>\n",
       "      <td>0.015255</td>\n",
       "      <td></td>\n",
       "      <td>21.818182</td>\n",
       "      <td>POINT (-73.98288 40.75499)</td>\n",
       "      <td>2.0</td>\n",
       "      <td>1.0</td>\n",
       "      <td>Manhattan</td>\n",
       "      <td>6.366027e+08</td>\n",
       "      <td>361212.476363</td>\n",
       "    </tr>\n",
       "    <tr>\n",
       "      <th>2</th>\n",
       "      <td>9BA84250355AB3FC031C9252D395BF8A</td>\n",
       "      <td>16BB0D96A0DCC853AEC7F55C8D6C71E0</td>\n",
       "      <td>CMT</td>\n",
       "      <td>1</td>\n",
       "      <td>N</td>\n",
       "      <td>15799.758345</td>\n",
       "      <td>15799.767639</td>\n",
       "      <td>1</td>\n",
       "      <td>799</td>\n",
       "      <td>1.9</td>\n",
       "      <td>...</td>\n",
       "      <td>73</td>\n",
       "      <td>0.009294</td>\n",
       "      <td></td>\n",
       "      <td>34.500000</td>\n",
       "      <td>POINT (-73.97812 40.76345)</td>\n",
       "      <td>2.0</td>\n",
       "      <td>1.0</td>\n",
       "      <td>Manhattan</td>\n",
       "      <td>6.366027e+08</td>\n",
       "      <td>361212.476363</td>\n",
       "    </tr>\n",
       "    <tr>\n",
       "      <th>3</th>\n",
       "      <td>205A696DF62AD03C88DA8C5EC5248639</td>\n",
       "      <td>579C41EA5EC846F8B641A42F9EE3E855</td>\n",
       "      <td>CMT</td>\n",
       "      <td>1</td>\n",
       "      <td>N</td>\n",
       "      <td>15799.842326</td>\n",
       "      <td>15799.854109</td>\n",
       "      <td>1</td>\n",
       "      <td>1017</td>\n",
       "      <td>3.6</td>\n",
       "      <td>...</td>\n",
       "      <td>39</td>\n",
       "      <td>0.011782</td>\n",
       "      <td></td>\n",
       "      <td>21.333333</td>\n",
       "      <td>POINT (-74.00637 40.74475)</td>\n",
       "      <td>2.0</td>\n",
       "      <td>1.0</td>\n",
       "      <td>Manhattan</td>\n",
       "      <td>6.366027e+08</td>\n",
       "      <td>361212.476363</td>\n",
       "    </tr>\n",
       "    <tr>\n",
       "      <th>4</th>\n",
       "      <td>EE75E5927D00739AC342810C336A825E</td>\n",
       "      <td>1B4E92431F9DA4D49874EC76E769E874</td>\n",
       "      <td>CMT</td>\n",
       "      <td>1</td>\n",
       "      <td>N</td>\n",
       "      <td>15800.116794</td>\n",
       "      <td>15800.118993</td>\n",
       "      <td>2</td>\n",
       "      <td>189</td>\n",
       "      <td>0.7</td>\n",
       "      <td>...</td>\n",
       "      <td>76</td>\n",
       "      <td>0.002199</td>\n",
       "      <td></td>\n",
       "      <td>24.444444</td>\n",
       "      <td>POINT (-73.98519 40.75493)</td>\n",
       "      <td>2.0</td>\n",
       "      <td>1.0</td>\n",
       "      <td>Manhattan</td>\n",
       "      <td>6.366027e+08</td>\n",
       "      <td>361212.476363</td>\n",
       "    </tr>\n",
       "  </tbody>\n",
       "</table>\n",
       "<p>5 rows × 31 columns</p>\n",
       "</div>"
      ],
      "text/plain": [
       "                          medallion                      hack_license  \\\n",
       "0  91F6EB84975BBC867E32CB113C7C2CD5  AD8751110E6292079EB10EB9481FE1A6   \n",
       "1  C1B9DA774DC2BBC6DE27CE994E7F44A0  E1B595FD55E4C82C1E213EB17438107A   \n",
       "2  9BA84250355AB3FC031C9252D395BF8A  16BB0D96A0DCC853AEC7F55C8D6C71E0   \n",
       "3  205A696DF62AD03C88DA8C5EC5248639  579C41EA5EC846F8B641A42F9EE3E855   \n",
       "4  EE75E5927D00739AC342810C336A825E  1B4E92431F9DA4D49874EC76E769E874   \n",
       "\n",
       "  vendor_id rate_code store_and_fwd_flag  pickup_datetime  dropoff_datetime  \\\n",
       "0       CMT         1                  N     15799.783160      15799.791956   \n",
       "1       CMT         1                  N     15799.749884      15799.765139   \n",
       "2       CMT         1                  N     15799.758345      15799.767639   \n",
       "3       CMT         1                  N     15799.842326      15799.854109   \n",
       "4       CMT         1                  N     15800.116794      15800.118993   \n",
       "\n",
       "   passenger_count  trip_time_in_secs  trip_distance  ...  randID  \\\n",
       "0                1                759            2.5  ...      53   \n",
       "1                1               1318            3.6  ...      68   \n",
       "2                1                799            1.9  ...      73   \n",
       "3                1               1017            3.6  ...      39   \n",
       "4                2                189            0.7  ...      76   \n",
       "\n",
       "   dropoff_minus_pickup  bad_data_flag  tips_percent  \\\n",
       "0              0.008796                    22.727273   \n",
       "1              0.015255                    21.818182   \n",
       "2              0.009294                    34.500000   \n",
       "3              0.011782                    21.333333   \n",
       "4              0.002199                    24.444444   \n",
       "\n",
       "                     geometry  index_right  boro_code  boro_name  \\\n",
       "0  POINT (-73.95785 40.76532)          2.0        1.0  Manhattan   \n",
       "1  POINT (-73.98288 40.75499)          2.0        1.0  Manhattan   \n",
       "2  POINT (-73.97812 40.76345)          2.0        1.0  Manhattan   \n",
       "3  POINT (-74.00637 40.74475)          2.0        1.0  Manhattan   \n",
       "4  POINT (-73.98519 40.75493)          2.0        1.0  Manhattan   \n",
       "\n",
       "     shape_area     shape_leng  \n",
       "0  6.366027e+08  361212.476363  \n",
       "1  6.366027e+08  361212.476363  \n",
       "2  6.366027e+08  361212.476363  \n",
       "3  6.366027e+08  361212.476363  \n",
       "4  6.366027e+08  361212.476363  \n",
       "\n",
       "[5 rows x 31 columns]"
      ]
     },
     "execution_count": 29,
     "metadata": {},
     "output_type": "execute_result"
    }
   ],
   "source": [
    "pointInPolys.head() # We have added new data to the dataframe"
   ]
  },
  {
   "cell_type": "code",
   "execution_count": 30,
   "metadata": {},
   "outputs": [],
   "source": [
    "out_points = pointInPolys['geometry'][pointInPolys['boro_name'].isnull()] #points that are outside for graphing"
   ]
  },
  {
   "cell_type": "markdown",
   "metadata": {},
   "source": [
    "#### Below we see a clear demonstration of the procedure working. The concern here is did it work too well? \n",
    "\n",
    "#### At this point it would be usefull to review how we feel about the boundaries and if too much data had been cut out. This would be a discussion with an SME or PO.\n",
    "\n",
    "#### The first plot shows us all the trips with pickup locations outisde of NYC that have been 'cut' from the dataset. Some of these are in the water and so should be cut. However some seem to be just in the neighboring suburbs. Perhaps the shapefile could be updated to include every neighboring suburb. This could be an interesting extension"
   ]
  },
  {
   "cell_type": "code",
   "execution_count": 31,
   "metadata": {},
   "outputs": [
    {
     "data": {
      "image/png": "[encoded data removed]",
      "text/plain": [
       "<Figure size 1080x1080 with 2 Axes>"
      ]
     },
     "metadata": {
      "needs_background": "light"
     },
     "output_type": "display_data"
    }
   ],
   "source": [
    "fig, (ax1, ax2) = plt.pyplot.subplots(ncols = 2, figsize = (15,15))\n",
    "shape.boundary.plot(ax=ax1)\n",
    "out_points.head(100000).plot(ax=ax1, color = 'green') # bad data\n",
    "shape.boundary.plot(ax=ax2)\n",
    "gpd.GeoDataFrame(pointInPolys['geometry'][pointInPolys['boro_name'].notnull()].head(100000)).plot(ax = ax2, color = 'red') # good data\n",
    "plt.pyplot.show()"
   ]
  },
  {
   "cell_type": "markdown",
   "metadata": {},
   "source": [
    "Depending on the bounding box this method may be very accurate and could exactly meet a clients requirements and definitions. It would be possible for the client to even create their own particular boundary map to work with. However it costs a lot in compute due to the size of the data. This could be improved but is out of scope for this notebook."
   ]
  },
  {
   "cell_type": "markdown",
   "metadata": {},
   "source": [
    "#### How much data did we remove? In total with both methods we removed around 387 points of data, or .26%, from our sample. This may or may not be significant enough to warrant a change based on the business case"
   ]
  },
  {
   "cell_type": "code",
   "execution_count": 32,
   "metadata": {},
   "outputs": [
    {
     "name": "stdout",
     "output_type": "stream",
     "text": [
      "11907957 21419 30585\n",
      "Bounding box removed: 0.18%\n",
      "NYC shapefile removed: 0.08%\n",
      "In total we removed: 0.26%\n"
     ]
    }
   ],
   "source": [
    "original = df.shape[0] # original data length\n",
    "bounded = pointInPolys[pointInPolys['boro_name'].isnull()].shape[0] # length of removed data after box\n",
    "cleaned = original - pointInPolys[pointInPolys['boro_name'].notnull()].shape[0] # length of data at the end\n",
    "shapefile = cleaned - bounded # length of data that NYC bounding removed\n",
    "\n",
    "print(original, bounded, cleaned)\n",
    "print(\"Bounding box removed: \" + str(round(bounded/original * 100, 2)) + \"%\")\n",
    "print(\"NYC shapefile removed: \" + str(round(shapefile/original * 100, 2)) + \"%\")\n",
    "print(\"In total we removed: \" + str(round(cleaned/original * 100, 2)) + \"%\")"
   ]
  },
  {
   "cell_type": "markdown",
   "metadata": {},
   "source": [
    "#### Rechecking the spread of the data we can definitely see that we have improved the dataset."
   ]
  },
  {
   "cell_type": "code",
   "execution_count": 33,
   "metadata": {},
   "outputs": [
    {
     "data": {
      "text/plain": [
       "count    1.187737e+07\n",
       "mean    -7.397521e+01\n",
       "std      3.438806e-02\n",
       "min     -7.423386e+01\n",
       "25%     -7.399227e+01\n",
       "50%     -7.398199e+01\n",
       "75%     -7.396787e+01\n",
       "max     -7.370079e+01\n",
       "Name: pickup_longitude, dtype: float64"
      ]
     },
     "execution_count": 33,
     "metadata": {},
     "output_type": "execute_result"
    }
   ],
   "source": [
    "pointInPolys['pickup_longitude'][pointInPolys['boro_name'].notnull()].describe()"
   ]
  },
  {
   "cell_type": "code",
   "execution_count": 34,
   "metadata": {},
   "outputs": [
    {
     "data": {
      "text/plain": [
       "count    1.187737e+07\n",
       "mean     4.075091e+01\n",
       "std      2.698420e-02\n",
       "min      4.050935e+01\n",
       "25%      4.073655e+01\n",
       "50%      4.075341e+01\n",
       "75%      4.076787e+01\n",
       "max      4.091237e+01\n",
       "Name: pickup_latitude, dtype: float64"
      ]
     },
     "execution_count": 34,
     "metadata": {},
     "output_type": "execute_result"
    }
   ],
   "source": [
    "pointInPolys['pickup_latitude'][pointInPolys['boro_name'].notnull()].describe()"
   ]
  },
  {
   "cell_type": "code",
   "execution_count": 35,
   "metadata": {},
   "outputs": [
    {
     "data": {
      "text/plain": [
       "count    1.187737e+07\n",
       "mean    -7.397474e+01\n",
       "std      3.297278e-02\n",
       "min     -7.425543e+01\n",
       "25%     -7.399158e+01\n",
       "50%     -7.398046e+01\n",
       "75%     -7.396503e+01\n",
       "max     -7.370003e+01\n",
       "Name: dropoff_longitude, dtype: float64"
      ]
     },
     "execution_count": 35,
     "metadata": {},
     "output_type": "execute_result"
    }
   ],
   "source": [
    "pointInPolys['dropoff_longitude'][pointInPolys['boro_name'].notnull()].describe()"
   ]
  },
  {
   "cell_type": "code",
   "execution_count": 36,
   "metadata": {},
   "outputs": [
    {
     "data": {
      "text/plain": [
       "count    1.187737e+07\n",
       "mean     4.075133e+01\n",
       "std      3.056716e-02\n",
       "min      4.049925e+01\n",
       "25%      4.073556e+01\n",
       "50%      4.075392e+01\n",
       "75%      4.076856e+01\n",
       "max      4.091553e+01\n",
       "Name: dropoff_latitude, dtype: float64"
      ]
     },
     "execution_count": 36,
     "metadata": {},
     "output_type": "execute_result"
    }
   ],
   "source": [
    "pointInPolys['dropoff_latitude'][pointInPolys['boro_name'].notnull()].describe()"
   ]
  },
  {
   "cell_type": "markdown",
   "metadata": {},
   "source": [
    "## Things to try that could improve results\n",
    "\n",
    "#### - Use a state shapefile instead\n",
    "#### - Use a custome shapefile\n",
    "#### - Bound the dropoffs with a state shape and pickups with NYC shape\n",
    "#### - Include the surrounding suburbs\n",
    "\n",
    "## What we missed?\n",
    "\n",
    "### These are possible types of corrupt data that this method can not identify.\n",
    "\n",
    "#### - Dropoff/Pickup points that are on top of eachother\n",
    "#### - Dropoff/Pickup points that are closer than the trip meter reads"
   ]
  },
  {
   "cell_type": "markdown",
   "metadata": {},
   "source": [
    "## Save the Data\n",
    "\n",
    "Lets now save the data out to be used in Power Bi"
   ]
  },
  {
   "cell_type": "code",
   "execution_count": 37,
   "metadata": {},
   "outputs": [],
   "source": [
    "df = pd.DataFrame(pointInPolys[pointInPolys['boro_name'].notnull()])"
   ]
  },
  {
   "cell_type": "code",
   "execution_count": 39,
   "metadata": {},
   "outputs": [],
   "source": [
    "df.to_csv('cleaned_data.csv',index = False)"
   ]
  },
  {
   "cell_type": "code",
   "execution_count": null,
   "metadata": {},
   "outputs": [],
   "source": []
  }
 ],
 "metadata": {
  "kernelspec": {
   "display_name": "Python 3",
   "language": "python",
   "name": "python3"
  },
  "language_info": {
   "codemirror_mode": {
    "name": "ipython",
    "version": 3
   },
   "file_extension": ".py",
   "mimetype": "text/x-python",
   "name": "python",
   "nbconvert_exporter": "python",
   "pygments_lexer": "ipython3",
   "version": "3.7.2"
  }
 },
 "nbformat": 4,
 "nbformat_minor": 4
}
