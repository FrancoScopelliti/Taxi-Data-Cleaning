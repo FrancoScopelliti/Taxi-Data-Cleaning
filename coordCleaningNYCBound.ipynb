{
 "cells": [
  {
   "cell_type": "markdown",
   "metadata": {},
   "source": [
    "# Taxi Trip Geospatial Cleaning "
   ]
  },
  {
   "cell_type": "markdown",
   "metadata": {},
   "source": [
    "In this notebook we look to clean a dataset containing information around individual taxi trips in and around New York City. In particular we are focusing on the pickup and drop off locations of the trips. \n",
    "\n",
    "## Whats wrong with the data\n",
    "Below we can see that pickup and dropoff have very large ranges between their maximum and minimum coordinates. A quick google puts NYC between -73.7 and -74.26 longitude, and between  40.92 and 40.497 latitude which was much smaller than the ranges within the data.\n",
    "\n",
    "## How do we solve this?\n",
    "There is no one method to solving a problem like this, in this notebook we will be attempting to filter out bad points spatially. As in drawing a polygon around NYC where points outside the polygon should be removed from the sample. This polygon requiers a certain assumption as to where data is considered valid or not. In a business case this is a decision typically made by a SME (subject matter expert) or a PO (product owner).\n",
    "\n",
    "Our first step is to get rid of the obviously wrong data. Drawing a box or circle around the city with a certain size and then eliminating any points that reside outside of the polygon. This is crude but efficient, it will prove very effective when coupled with a mroe accurate second method.\n",
    "\n",
    "An assumption made for this notebook is that a taxi in NYC is far more likely to conduct its pickups within NYC than outisde. Thus a way to accurately identify bad data is to focus on the pickup-locations. We can restrict pickup locations to within ciity limits and restrict dropoff locations to the arbitrary bounding box."
   ]
  },
  {
   "cell_type": "code",
   "execution_count": 2,
   "metadata": {},
   "outputs": [],
   "source": [
    "import numpy as np\n",
    "import matplotlib as plt\n",
    "import pandas as pd\n",
    "import pyreadr\n",
    "import geopandas as gpd\n",
    "from shapely.geometry import Point\n",
    "from geopandas.tools import sjoin"
   ]
  },
  {
   "cell_type": "markdown",
   "metadata": {},
   "source": [
    "#### Using python with .rds (R data file) requires some conversion. In python the object we use is called a dataframe and it comes with the Pandas package."
   ]
  },
  {
   "cell_type": "code",
   "execution_count": 21,
   "metadata": {},
   "outputs": [],
   "source": [
    "data = pyreadr.read_r('nyc_taxi_data_clean_medium.rds')\n",
    "df = data[None]"
   ]
  },
  {
   "cell_type": "markdown",
   "metadata": {},
   "source": [
    "#### Below we see the evidence of the distorted data. Range between min and max is far too big"
   ]
  },
  {
   "cell_type": "code",
   "execution_count": 22,
   "metadata": {},
   "outputs": [
    {
     "data": {
      "text/plain": [
       "count    1.482876e+07\n",
       "mean    -7.397209e+01\n",
       "std      5.687341e-01\n",
       "min     -1.578177e+02\n",
       "25%     -7.399230e+01\n",
       "50%     -7.398200e+01\n",
       "75%     -7.396786e+01\n",
       "max      1.009878e+02\n",
       "Name: pickup_longitude, dtype: float64"
      ]
     },
     "execution_count": 22,
     "metadata": {},
     "output_type": "execute_result"
    }
   ],
   "source": [
    "df['pickup_longitude'].describe()"
   ]
  },
  {
   "cell_type": "code",
   "execution_count": 23,
   "metadata": {},
   "outputs": [
    {
     "data": {
      "text/plain": [
       "count    1.482876e+07\n",
       "mean     4.074886e+01\n",
       "std      4.866608e-01\n",
       "min     -7.401636e+01\n",
       "25%      4.073654e+01\n",
       "50%      4.075343e+01\n",
       "75%      4.076788e+01\n",
       "max      7.401463e+01\n",
       "Name: pickup_latitude, dtype: float64"
      ]
     },
     "execution_count": 23,
     "metadata": {},
     "output_type": "execute_result"
    }
   ],
   "source": [
    "df['pickup_latitude'].describe()"
   ]
  },
  {
   "cell_type": "code",
   "execution_count": 24,
   "metadata": {},
   "outputs": [
    {
     "data": {
      "text/plain": [
       "count    1.482876e+07\n",
       "mean    -7.397145e+01\n",
       "std      5.783764e-01\n",
       "min     -1.578177e+02\n",
       "25%     -7.399161e+01\n",
       "50%     -7.398048e+01\n",
       "75%     -7.396500e+01\n",
       "max      1.009878e+02\n",
       "Name: dropoff_longitude, dtype: float64"
      ]
     },
     "execution_count": 24,
     "metadata": {},
     "output_type": "execute_result"
    }
   ],
   "source": [
    "df['dropoff_longitude'].describe()"
   ]
  },
  {
   "cell_type": "code",
   "execution_count": 25,
   "metadata": {},
   "outputs": [
    {
     "data": {
      "text/plain": [
       "count    1.482876e+07\n",
       "mean     4.074936e+01\n",
       "std      4.896054e-01\n",
       "min     -7.406991e+01\n",
       "25%      4.073556e+01\n",
       "50%      4.075394e+01\n",
       "75%      4.076857e+01\n",
       "max      7.403593e+01\n",
       "Name: dropoff_latitude, dtype: float64"
      ]
     },
     "execution_count": 25,
     "metadata": {},
     "output_type": "execute_result"
    }
   ],
   "source": [
    "df['dropoff_latitude'].describe()"
   ]
  },
  {
   "cell_type": "markdown",
   "metadata": {},
   "source": [
    "#### We should also confirm what data we have to work with other than the coordinates. Two in particular are useful. \n",
    "\n",
    "#### The first is bad_data_flag. This is what we will be updating to identify when a data point is suspected to be invalid. It also allows us to input some reasoning as to why the data is invalid.\n",
    "\n",
    "#### The second is randID. This can be used to select a subset of this data to operate on, especially useful if the machine you are operating on has low memory capacity."
   ]
  },
  {
   "cell_type": "code",
   "execution_count": 26,
   "metadata": {},
   "outputs": [],
   "source": [
    " df = df[df['randID'] == 15].copy() # Sample the data"
   ]
  },
  {
   "cell_type": "code",
   "execution_count": 27,
   "metadata": {},
   "outputs": [
    {
     "name": "stdout",
     "output_type": "stream",
     "text": [
      "<class 'pandas.core.frame.DataFrame'>\n",
      "Int64Index: 150493 entries, 129 to 14828754\n",
      "Data columns (total 25 columns):\n",
      " #   Column                Non-Null Count   Dtype   \n",
      "---  ------                --------------   -----   \n",
      " 0   medallion             150493 non-null  object  \n",
      " 1   hack_license          150493 non-null  object  \n",
      " 2   vendor_id             150493 non-null  category\n",
      " 3   rate_code             150493 non-null  category\n",
      " 4   store_and_fwd_flag    150493 non-null  category\n",
      " 5   pickup_datetime       150493 non-null  float64 \n",
      " 6   dropoff_datetime      150493 non-null  float64 \n",
      " 7   passenger_count       150493 non-null  int32   \n",
      " 8   trip_time_in_secs     150493 non-null  int32   \n",
      " 9   trip_distance         150493 non-null  float64 \n",
      " 10  pickup_longitude      150493 non-null  float64 \n",
      " 11  pickup_latitude       150493 non-null  float64 \n",
      " 12  dropoff_longitude     150493 non-null  float64 \n",
      " 13  dropoff_latitude      150493 non-null  float64 \n",
      " 14  payment_type          150493 non-null  category\n",
      " 15  fare_amount           150493 non-null  float64 \n",
      " 16  surcharge             150493 non-null  float64 \n",
      " 17  mta_tax               150493 non-null  float64 \n",
      " 18  tips                  150493 non-null  float64 \n",
      " 19  tolls                 150493 non-null  float64 \n",
      " 20  total_amount          150493 non-null  float64 \n",
      " 21  randID                150493 non-null  int32   \n",
      " 22  dropoff_minus_pickup  150493 non-null  float64 \n",
      " 23  bad_data_flag         150493 non-null  object  \n",
      " 24  tips_percent          150493 non-null  float64 \n",
      "dtypes: category(4), float64(15), int32(3), object(3)\n",
      "memory usage: 54.7 MB\n"
     ]
    }
   ],
   "source": [
    "df.info(memory_usage='deep')"
   ]
  },
  {
   "cell_type": "markdown",
   "metadata": {},
   "source": [
    "#### The structure of the data doesn't change from R to a pyhton dataframe. We can explore through the data as such. "
   ]
  },
  {
   "cell_type": "code",
   "execution_count": 28,
   "metadata": {},
   "outputs": [
    {
     "name": "stdout",
     "output_type": "stream",
     "text": [
      "(150493, 25)\n",
      "Index(['medallion', 'hack_license', 'vendor_id', 'rate_code',\n",
      "       'store_and_fwd_flag', 'pickup_datetime', 'dropoff_datetime',\n",
      "       'passenger_count', 'trip_time_in_secs', 'trip_distance',\n",
      "       'pickup_longitude', 'pickup_latitude', 'dropoff_longitude',\n",
      "       'dropoff_latitude', 'payment_type', 'fare_amount', 'surcharge',\n",
      "       'mta_tax', 'tips', 'tolls', 'total_amount', 'randID',\n",
      "       'dropoff_minus_pickup', 'bad_data_flag', 'tips_percent'],\n",
      "      dtype='object')\n"
     ]
    }
   ],
   "source": [
    "print(df.shape)\n",
    "print(df.columns)"
   ]
  },
  {
   "cell_type": "code",
   "execution_count": 29,
   "metadata": {},
   "outputs": [
    {
     "data": {
      "text/html": [
       "<div>\n",
       "<style scoped>\n",
       "    .dataframe tbody tr th:only-of-type {\n",
       "        vertical-align: middle;\n",
       "    }\n",
       "\n",
       "    .dataframe tbody tr th {\n",
       "        vertical-align: top;\n",
       "    }\n",
       "\n",
       "    .dataframe thead th {\n",
       "        text-align: right;\n",
       "    }\n",
       "</style>\n",
       "<table border=\"1\" class=\"dataframe\">\n",
       "  <thead>\n",
       "    <tr style=\"text-align: right;\">\n",
       "      <th></th>\n",
       "      <th>medallion</th>\n",
       "      <th>hack_license</th>\n",
       "      <th>vendor_id</th>\n",
       "      <th>rate_code</th>\n",
       "      <th>store_and_fwd_flag</th>\n",
       "      <th>pickup_datetime</th>\n",
       "      <th>dropoff_datetime</th>\n",
       "      <th>passenger_count</th>\n",
       "      <th>trip_time_in_secs</th>\n",
       "      <th>trip_distance</th>\n",
       "      <th>...</th>\n",
       "      <th>fare_amount</th>\n",
       "      <th>surcharge</th>\n",
       "      <th>mta_tax</th>\n",
       "      <th>tips</th>\n",
       "      <th>tolls</th>\n",
       "      <th>total_amount</th>\n",
       "      <th>randID</th>\n",
       "      <th>dropoff_minus_pickup</th>\n",
       "      <th>bad_data_flag</th>\n",
       "      <th>tips_percent</th>\n",
       "    </tr>\n",
       "  </thead>\n",
       "  <tbody>\n",
       "    <tr>\n",
       "      <th>129</th>\n",
       "      <td>F0F0CFE0F353AAB5F87B98BC37C5540D</td>\n",
       "      <td>037BB8A7D2501F9CDCCC70F271A356D6</td>\n",
       "      <td>CMT</td>\n",
       "      <td>1</td>\n",
       "      <td>N</td>\n",
       "      <td>15800.216574</td>\n",
       "      <td>15800.223252</td>\n",
       "      <td>1</td>\n",
       "      <td>577</td>\n",
       "      <td>3.40</td>\n",
       "      <td>...</td>\n",
       "      <td>12.5</td>\n",
       "      <td>0.5</td>\n",
       "      <td>0.5</td>\n",
       "      <td>2.00</td>\n",
       "      <td>0.00</td>\n",
       "      <td>15.50</td>\n",
       "      <td>15</td>\n",
       "      <td>0.006678</td>\n",
       "      <td></td>\n",
       "      <td>16.000000</td>\n",
       "    </tr>\n",
       "    <tr>\n",
       "      <th>167</th>\n",
       "      <td>5C96FE79A28D617F9933C387A65A3061</td>\n",
       "      <td>BDDFA029563EC82E16C335A5B3B1C57F</td>\n",
       "      <td>VTS</td>\n",
       "      <td>1</td>\n",
       "      <td></td>\n",
       "      <td>15807.981944</td>\n",
       "      <td>15807.989583</td>\n",
       "      <td>1</td>\n",
       "      <td>660</td>\n",
       "      <td>1.83</td>\n",
       "      <td>...</td>\n",
       "      <td>9.5</td>\n",
       "      <td>0.5</td>\n",
       "      <td>0.5</td>\n",
       "      <td>2.00</td>\n",
       "      <td>0.00</td>\n",
       "      <td>12.50</td>\n",
       "      <td>15</td>\n",
       "      <td>0.007639</td>\n",
       "      <td></td>\n",
       "      <td>21.052632</td>\n",
       "    </tr>\n",
       "    <tr>\n",
       "      <th>377</th>\n",
       "      <td>85720A3C71973D86C8CA39B0B79B6968</td>\n",
       "      <td>DEF7DC1592397F0C2564B0ABFA2A7CF4</td>\n",
       "      <td>VTS</td>\n",
       "      <td>1</td>\n",
       "      <td></td>\n",
       "      <td>15807.835417</td>\n",
       "      <td>15807.845139</td>\n",
       "      <td>1</td>\n",
       "      <td>840</td>\n",
       "      <td>5.02</td>\n",
       "      <td>...</td>\n",
       "      <td>16.5</td>\n",
       "      <td>0.5</td>\n",
       "      <td>0.5</td>\n",
       "      <td>4.25</td>\n",
       "      <td>0.00</td>\n",
       "      <td>21.75</td>\n",
       "      <td>15</td>\n",
       "      <td>0.009722</td>\n",
       "      <td></td>\n",
       "      <td>25.757576</td>\n",
       "    </tr>\n",
       "    <tr>\n",
       "      <th>416</th>\n",
       "      <td>62099C3783738399C97EE0D4E35A3F0A</td>\n",
       "      <td>D2923683CFECDB4AECB0D995716F35FF</td>\n",
       "      <td>VTS</td>\n",
       "      <td>1</td>\n",
       "      <td></td>\n",
       "      <td>15807.878472</td>\n",
       "      <td>15807.888889</td>\n",
       "      <td>1</td>\n",
       "      <td>900</td>\n",
       "      <td>2.84</td>\n",
       "      <td>...</td>\n",
       "      <td>12.5</td>\n",
       "      <td>0.5</td>\n",
       "      <td>0.5</td>\n",
       "      <td>0.00</td>\n",
       "      <td>0.00</td>\n",
       "      <td>13.50</td>\n",
       "      <td>15</td>\n",
       "      <td>0.010417</td>\n",
       "      <td></td>\n",
       "      <td>0.000000</td>\n",
       "    </tr>\n",
       "    <tr>\n",
       "      <th>481</th>\n",
       "      <td>CAC816D410FB0B7B8F3B4B1F39680F97</td>\n",
       "      <td>A9F126F43FAFF4097D227EA49EBCAEEF</td>\n",
       "      <td>VTS</td>\n",
       "      <td>1</td>\n",
       "      <td></td>\n",
       "      <td>15807.923611</td>\n",
       "      <td>15807.930556</td>\n",
       "      <td>6</td>\n",
       "      <td>600</td>\n",
       "      <td>2.26</td>\n",
       "      <td>...</td>\n",
       "      <td>9.5</td>\n",
       "      <td>0.5</td>\n",
       "      <td>0.5</td>\n",
       "      <td>2.00</td>\n",
       "      <td>0.00</td>\n",
       "      <td>12.50</td>\n",
       "      <td>15</td>\n",
       "      <td>0.006944</td>\n",
       "      <td></td>\n",
       "      <td>21.052632</td>\n",
       "    </tr>\n",
       "    <tr>\n",
       "      <th>...</th>\n",
       "      <td>...</td>\n",
       "      <td>...</td>\n",
       "      <td>...</td>\n",
       "      <td>...</td>\n",
       "      <td>...</td>\n",
       "      <td>...</td>\n",
       "      <td>...</td>\n",
       "      <td>...</td>\n",
       "      <td>...</td>\n",
       "      <td>...</td>\n",
       "      <td>...</td>\n",
       "      <td>...</td>\n",
       "      <td>...</td>\n",
       "      <td>...</td>\n",
       "      <td>...</td>\n",
       "      <td>...</td>\n",
       "      <td>...</td>\n",
       "      <td>...</td>\n",
       "      <td>...</td>\n",
       "      <td>...</td>\n",
       "      <td>...</td>\n",
       "    </tr>\n",
       "    <tr>\n",
       "      <th>100112</th>\n",
       "      <td>58A9ED83D9C9C7481B87ED554AEC24C4</td>\n",
       "      <td>084BEA6D22BB8589234B589E01D00BF1</td>\n",
       "      <td>VTS</td>\n",
       "      <td>1</td>\n",
       "      <td></td>\n",
       "      <td>15808.347917</td>\n",
       "      <td>15808.349306</td>\n",
       "      <td>1</td>\n",
       "      <td>120</td>\n",
       "      <td>0.23</td>\n",
       "      <td>...</td>\n",
       "      <td>3.5</td>\n",
       "      <td>0.0</td>\n",
       "      <td>0.5</td>\n",
       "      <td>0.00</td>\n",
       "      <td>0.00</td>\n",
       "      <td>4.00</td>\n",
       "      <td>15</td>\n",
       "      <td>0.001389</td>\n",
       "      <td></td>\n",
       "      <td>0.000000</td>\n",
       "    </tr>\n",
       "    <tr>\n",
       "      <th>100114</th>\n",
       "      <td>4D684EE610EA8F13B829260E9DC05BC3</td>\n",
       "      <td>29E6429B40EFDDDC73D6270A431A05D5</td>\n",
       "      <td>VTS</td>\n",
       "      <td>1</td>\n",
       "      <td></td>\n",
       "      <td>15808.344444</td>\n",
       "      <td>15808.352083</td>\n",
       "      <td>6</td>\n",
       "      <td>660</td>\n",
       "      <td>3.62</td>\n",
       "      <td>...</td>\n",
       "      <td>12.5</td>\n",
       "      <td>0.0</td>\n",
       "      <td>0.5</td>\n",
       "      <td>0.00</td>\n",
       "      <td>0.00</td>\n",
       "      <td>13.00</td>\n",
       "      <td>15</td>\n",
       "      <td>0.007639</td>\n",
       "      <td></td>\n",
       "      <td>0.000000</td>\n",
       "    </tr>\n",
       "    <tr>\n",
       "      <th>100271</th>\n",
       "      <td>DC94C90BDE77EE687F8BB379A349C674</td>\n",
       "      <td>308999419601C5CFE0CA0298879F77E9</td>\n",
       "      <td>VTS</td>\n",
       "      <td>2</td>\n",
       "      <td></td>\n",
       "      <td>15808.040972</td>\n",
       "      <td>15808.065972</td>\n",
       "      <td>1</td>\n",
       "      <td>2160</td>\n",
       "      <td>20.68</td>\n",
       "      <td>...</td>\n",
       "      <td>52.0</td>\n",
       "      <td>0.0</td>\n",
       "      <td>0.5</td>\n",
       "      <td>0.00</td>\n",
       "      <td>5.33</td>\n",
       "      <td>57.83</td>\n",
       "      <td>15</td>\n",
       "      <td>0.025000</td>\n",
       "      <td></td>\n",
       "      <td>0.000000</td>\n",
       "    </tr>\n",
       "    <tr>\n",
       "      <th>100299</th>\n",
       "      <td>D623C90327F3253FEF1B5F628C2C054B</td>\n",
       "      <td>1DAF7D57E8443EA81E03A73E0ACE3976</td>\n",
       "      <td>VTS</td>\n",
       "      <td>1</td>\n",
       "      <td></td>\n",
       "      <td>15808.149306</td>\n",
       "      <td>15808.155556</td>\n",
       "      <td>1</td>\n",
       "      <td>540</td>\n",
       "      <td>2.31</td>\n",
       "      <td>...</td>\n",
       "      <td>9.5</td>\n",
       "      <td>0.5</td>\n",
       "      <td>0.5</td>\n",
       "      <td>2.00</td>\n",
       "      <td>0.00</td>\n",
       "      <td>12.50</td>\n",
       "      <td>15</td>\n",
       "      <td>0.006250</td>\n",
       "      <td></td>\n",
       "      <td>21.052632</td>\n",
       "    </tr>\n",
       "    <tr>\n",
       "      <th>100343</th>\n",
       "      <td>310F4031C60C5B9BF305C9E9E63A2C3D</td>\n",
       "      <td>844675068D53E43CDED80EE8C338214D</td>\n",
       "      <td>VTS</td>\n",
       "      <td>1</td>\n",
       "      <td></td>\n",
       "      <td>15808.132639</td>\n",
       "      <td>15808.159722</td>\n",
       "      <td>2</td>\n",
       "      <td>2340</td>\n",
       "      <td>12.77</td>\n",
       "      <td>...</td>\n",
       "      <td>40.5</td>\n",
       "      <td>0.5</td>\n",
       "      <td>0.5</td>\n",
       "      <td>0.00</td>\n",
       "      <td>0.00</td>\n",
       "      <td>41.50</td>\n",
       "      <td>15</td>\n",
       "      <td>0.027083</td>\n",
       "      <td></td>\n",
       "      <td>0.000000</td>\n",
       "    </tr>\n",
       "  </tbody>\n",
       "</table>\n",
       "<p>1000 rows × 25 columns</p>\n",
       "</div>"
      ],
      "text/plain": [
       "                               medallion                      hack_license  \\\n",
       "129     F0F0CFE0F353AAB5F87B98BC37C5540D  037BB8A7D2501F9CDCCC70F271A356D6   \n",
       "167     5C96FE79A28D617F9933C387A65A3061  BDDFA029563EC82E16C335A5B3B1C57F   \n",
       "377     85720A3C71973D86C8CA39B0B79B6968  DEF7DC1592397F0C2564B0ABFA2A7CF4   \n",
       "416     62099C3783738399C97EE0D4E35A3F0A  D2923683CFECDB4AECB0D995716F35FF   \n",
       "481     CAC816D410FB0B7B8F3B4B1F39680F97  A9F126F43FAFF4097D227EA49EBCAEEF   \n",
       "...                                  ...                               ...   \n",
       "100112  58A9ED83D9C9C7481B87ED554AEC24C4  084BEA6D22BB8589234B589E01D00BF1   \n",
       "100114  4D684EE610EA8F13B829260E9DC05BC3  29E6429B40EFDDDC73D6270A431A05D5   \n",
       "100271  DC94C90BDE77EE687F8BB379A349C674  308999419601C5CFE0CA0298879F77E9   \n",
       "100299  D623C90327F3253FEF1B5F628C2C054B  1DAF7D57E8443EA81E03A73E0ACE3976   \n",
       "100343  310F4031C60C5B9BF305C9E9E63A2C3D  844675068D53E43CDED80EE8C338214D   \n",
       "\n",
       "       vendor_id rate_code store_and_fwd_flag  pickup_datetime  \\\n",
       "129          CMT         1                  N     15800.216574   \n",
       "167          VTS         1                        15807.981944   \n",
       "377          VTS         1                        15807.835417   \n",
       "416          VTS         1                        15807.878472   \n",
       "481          VTS         1                        15807.923611   \n",
       "...          ...       ...                ...              ...   \n",
       "100112       VTS         1                        15808.347917   \n",
       "100114       VTS         1                        15808.344444   \n",
       "100271       VTS         2                        15808.040972   \n",
       "100299       VTS         1                        15808.149306   \n",
       "100343       VTS         1                        15808.132639   \n",
       "\n",
       "        dropoff_datetime  passenger_count  trip_time_in_secs  trip_distance  \\\n",
       "129         15800.223252                1                577           3.40   \n",
       "167         15807.989583                1                660           1.83   \n",
       "377         15807.845139                1                840           5.02   \n",
       "416         15807.888889                1                900           2.84   \n",
       "481         15807.930556                6                600           2.26   \n",
       "...                  ...              ...                ...            ...   \n",
       "100112      15808.349306                1                120           0.23   \n",
       "100114      15808.352083                6                660           3.62   \n",
       "100271      15808.065972                1               2160          20.68   \n",
       "100299      15808.155556                1                540           2.31   \n",
       "100343      15808.159722                2               2340          12.77   \n",
       "\n",
       "        ...  fare_amount  surcharge  mta_tax  tips tolls  total_amount  \\\n",
       "129     ...         12.5        0.5      0.5  2.00  0.00         15.50   \n",
       "167     ...          9.5        0.5      0.5  2.00  0.00         12.50   \n",
       "377     ...         16.5        0.5      0.5  4.25  0.00         21.75   \n",
       "416     ...         12.5        0.5      0.5  0.00  0.00         13.50   \n",
       "481     ...          9.5        0.5      0.5  2.00  0.00         12.50   \n",
       "...     ...          ...        ...      ...   ...   ...           ...   \n",
       "100112  ...          3.5        0.0      0.5  0.00  0.00          4.00   \n",
       "100114  ...         12.5        0.0      0.5  0.00  0.00         13.00   \n",
       "100271  ...         52.0        0.0      0.5  0.00  5.33         57.83   \n",
       "100299  ...          9.5        0.5      0.5  2.00  0.00         12.50   \n",
       "100343  ...         40.5        0.5      0.5  0.00  0.00         41.50   \n",
       "\n",
       "        randID  dropoff_minus_pickup  bad_data_flag  tips_percent  \n",
       "129         15              0.006678                    16.000000  \n",
       "167         15              0.007639                    21.052632  \n",
       "377         15              0.009722                    25.757576  \n",
       "416         15              0.010417                     0.000000  \n",
       "481         15              0.006944                    21.052632  \n",
       "...        ...                   ...            ...           ...  \n",
       "100112      15              0.001389                     0.000000  \n",
       "100114      15              0.007639                     0.000000  \n",
       "100271      15              0.025000                     0.000000  \n",
       "100299      15              0.006250                    21.052632  \n",
       "100343      15              0.027083                     0.000000  \n",
       "\n",
       "[1000 rows x 25 columns]"
      ]
     },
     "execution_count": 29,
     "metadata": {},
     "output_type": "execute_result"
    }
   ],
   "source": [
    "df.head(1000)"
   ]
  },
  {
   "cell_type": "markdown",
   "metadata": {},
   "source": [
    "#### In this example we are going to limit the NYC taxi services to NYC boundaries. This may turn out to be too restrictive as there are many close destinations outside NYC limits e.g. Newark airport. This example should still work with a different shape file that is larger, for example the state of NY.\n",
    "\n",
    "#### We can load in a 'shapefile' which contains boundry points along the edges of NYC districts as well as metadata around those districts. The boundaries form polygons which make it easier for us to test with."
   ]
  },
  {
   "cell_type": "code",
   "execution_count": 30,
   "metadata": {},
   "outputs": [
    {
     "data": {
      "text/plain": [
       "<matplotlib.axes._subplots.AxesSubplot at 0x1bfced96d68>"
      ]
     },
     "execution_count": 30,
     "metadata": {},
     "output_type": "execute_result"
    },
    {
     "data": {
      "image/png": "[encoded data removed]",
      "text/plain": [
       "<Figure size 432x288 with 1 Axes>"
      ]
     },
     "metadata": {
      "needs_background": "light"
     },
     "output_type": "display_data"
    }
   ],
   "source": [
    "shape=gpd.read_file('BoroughBoundaries/geo_export_38393e35-ee4f-452c-926a-fd0fd2836963.shp')\n",
    "shape.plot()"
   ]
  },
  {
   "cell_type": "code",
   "execution_count": 31,
   "metadata": {},
   "outputs": [
    {
     "data": {
      "text/plain": [
       "<matplotlib.axes._subplots.AxesSubplot at 0x1c038830470>"
      ]
     },
     "execution_count": 31,
     "metadata": {},
     "output_type": "execute_result"
    },
    {
     "data": {
      "image/png": "[encoded data removed]",
      "text/plain": [
       "<Figure size 432x288 with 1 Axes>"
      ]
     },
     "metadata": {
      "needs_background": "light"
     },
     "output_type": "display_data"
    }
   ],
   "source": [
    "shape.boundary.plot()"
   ]
  },
  {
   "cell_type": "code",
   "execution_count": 32,
   "metadata": {},
   "outputs": [
    {
     "data": {
      "text/plain": [
       "geopandas.geodataframe.GeoDataFrame"
      ]
     },
     "execution_count": 32,
     "metadata": {},
     "output_type": "execute_result"
    }
   ],
   "source": [
    "type(shape) "
   ]
  },
  {
   "cell_type": "code",
   "execution_count": 33,
   "metadata": {},
   "outputs": [
    {
     "data": {
      "text/plain": [
       "<Geographic 2D CRS: EPSG:4326>\n",
       "Name: WGS 84\n",
       "Axis Info [ellipsoidal]:\n",
       "- Lat[north]: Geodetic latitude (degree)\n",
       "- Lon[east]: Geodetic longitude (degree)\n",
       "Area of Use:\n",
       "- name: World\n",
       "- bounds: (-180.0, -90.0, 180.0, 90.0)\n",
       "Datum: World Geodetic System 1984\n",
       "- Ellipsoid: WGS 84\n",
       "- Prime Meridian: Greenwich"
      ]
     },
     "execution_count": 33,
     "metadata": {},
     "output_type": "execute_result"
    }
   ],
   "source": [
    "shape.crs"
   ]
  },
  {
   "cell_type": "markdown",
   "metadata": {},
   "source": [
    "#### The shape file when loaded in with GeoPandas is basically just a dataframe with each polygon as an entry. The polygons themselves are their own object type which strings together a list of coordinates."
   ]
  },
  {
   "cell_type": "code",
   "execution_count": 34,
   "metadata": {},
   "outputs": [
    {
     "data": {
      "text/html": [
       "<div>\n",
       "<style scoped>\n",
       "    .dataframe tbody tr th:only-of-type {\n",
       "        vertical-align: middle;\n",
       "    }\n",
       "\n",
       "    .dataframe tbody tr th {\n",
       "        vertical-align: top;\n",
       "    }\n",
       "\n",
       "    .dataframe thead th {\n",
       "        text-align: right;\n",
       "    }\n",
       "</style>\n",
       "<table border=\"1\" class=\"dataframe\">\n",
       "  <thead>\n",
       "    <tr style=\"text-align: right;\">\n",
       "      <th></th>\n",
       "      <th>boro_code</th>\n",
       "      <th>boro_name</th>\n",
       "      <th>shape_area</th>\n",
       "      <th>shape_leng</th>\n",
       "      <th>geometry</th>\n",
       "    </tr>\n",
       "  </thead>\n",
       "  <tbody>\n",
       "    <tr>\n",
       "      <th>0</th>\n",
       "      <td>2.0</td>\n",
       "      <td>Bronx</td>\n",
       "      <td>1.186612e+09</td>\n",
       "      <td>462958.187537</td>\n",
       "      <td>MULTIPOLYGON (((-73.89681 40.79581, -73.89694 ...</td>\n",
       "    </tr>\n",
       "    <tr>\n",
       "      <th>1</th>\n",
       "      <td>5.0</td>\n",
       "      <td>Staten Island</td>\n",
       "      <td>1.623757e+09</td>\n",
       "      <td>325956.009000</td>\n",
       "      <td>MULTIPOLYGON (((-74.05051 40.56642, -74.05047 ...</td>\n",
       "    </tr>\n",
       "    <tr>\n",
       "      <th>2</th>\n",
       "      <td>1.0</td>\n",
       "      <td>Manhattan</td>\n",
       "      <td>6.366027e+08</td>\n",
       "      <td>361212.476363</td>\n",
       "      <td>MULTIPOLYGON (((-74.01093 40.68449, -74.01193 ...</td>\n",
       "    </tr>\n",
       "    <tr>\n",
       "      <th>3</th>\n",
       "      <td>3.0</td>\n",
       "      <td>Brooklyn</td>\n",
       "      <td>1.937593e+09</td>\n",
       "      <td>738745.842046</td>\n",
       "      <td>MULTIPOLYGON (((-73.86706 40.58209, -73.86769 ...</td>\n",
       "    </tr>\n",
       "    <tr>\n",
       "      <th>4</th>\n",
       "      <td>4.0</td>\n",
       "      <td>Queens</td>\n",
       "      <td>3.045878e+09</td>\n",
       "      <td>904191.432610</td>\n",
       "      <td>MULTIPOLYGON (((-73.83668 40.59495, -73.83678 ...</td>\n",
       "    </tr>\n",
       "  </tbody>\n",
       "</table>\n",
       "</div>"
      ],
      "text/plain": [
       "   boro_code      boro_name    shape_area     shape_leng  \\\n",
       "0        2.0          Bronx  1.186612e+09  462958.187537   \n",
       "1        5.0  Staten Island  1.623757e+09  325956.009000   \n",
       "2        1.0      Manhattan  6.366027e+08  361212.476363   \n",
       "3        3.0       Brooklyn  1.937593e+09  738745.842046   \n",
       "4        4.0         Queens  3.045878e+09  904191.432610   \n",
       "\n",
       "                                            geometry  \n",
       "0  MULTIPOLYGON (((-73.89681 40.79581, -73.89694 ...  \n",
       "1  MULTIPOLYGON (((-74.05051 40.56642, -74.05047 ...  \n",
       "2  MULTIPOLYGON (((-74.01093 40.68449, -74.01193 ...  \n",
       "3  MULTIPOLYGON (((-73.86706 40.58209, -73.86769 ...  \n",
       "4  MULTIPOLYGON (((-73.83668 40.59495, -73.83678 ...  "
      ]
     },
     "execution_count": 34,
     "metadata": {},
     "output_type": "execute_result"
    }
   ],
   "source": [
    "shape.head()"
   ]
  },
  {
   "cell_type": "markdown",
   "metadata": {},
   "source": [
    "#### A bounding box is a crude  but efficient way of handling the data. We will use it here to speed up our computation as it can get rid of the mostly obvious examples. From there we can use a more advanced method on more ambiguous answers. The bounding box will also serve to  bound the drop-offs, it seems a logical assumption that NYC taxis are more likely to pick up inside the city bounds and leave, than pickup outside the city bounds and come in. This logic could be extended to limiting pickups inside NYC and drop offs inside NY state.\n",
    "\n",
    "#### The box here is just the min/max latitude and longitude of NYC, this could be easily extended to what you see fit."
   ]
  },
  {
   "cell_type": "code",
   "execution_count": 35,
   "metadata": {},
   "outputs": [
    {
     "data": {
      "text/plain": [
       "(-73.7000090638712, -74.25559136315213, 40.91553277600008, 40.49611539518921)"
      ]
     },
     "execution_count": 35,
     "metadata": {},
     "output_type": "execute_result"
    }
   ],
   "source": [
    "bounds_df = shape.bounds\n",
    "bounding_box = [max(bounds_df['maxx']), max(bounds_df['maxy']), min(bounds_df['minx']), min(bounds_df['miny'])]\n",
    "maxlong, maxlat, minlong, minlat = max(bounds_df['maxx']), max(bounds_df['maxy']), min(bounds_df['minx']), min(bounds_df['miny'])\n",
    "maxlong, minlong, maxlat,  minlat"
   ]
  },
  {
   "cell_type": "code",
   "execution_count": 36,
   "metadata": {},
   "outputs": [
    {
     "data": {
      "text/html": [
       "<div>\n",
       "<style scoped>\n",
       "    .dataframe tbody tr th:only-of-type {\n",
       "        vertical-align: middle;\n",
       "    }\n",
       "\n",
       "    .dataframe tbody tr th {\n",
       "        vertical-align: top;\n",
       "    }\n",
       "\n",
       "    .dataframe thead th {\n",
       "        text-align: right;\n",
       "    }\n",
       "</style>\n",
       "<table border=\"1\" class=\"dataframe\">\n",
       "  <thead>\n",
       "    <tr style=\"text-align: right;\">\n",
       "      <th></th>\n",
       "      <th>minx</th>\n",
       "      <th>miny</th>\n",
       "      <th>maxx</th>\n",
       "      <th>maxy</th>\n",
       "    </tr>\n",
       "  </thead>\n",
       "  <tbody>\n",
       "    <tr>\n",
       "      <th>0</th>\n",
       "      <td>-73.933606</td>\n",
       "      <td>40.785357</td>\n",
       "      <td>-73.765332</td>\n",
       "      <td>40.915533</td>\n",
       "    </tr>\n",
       "    <tr>\n",
       "      <th>1</th>\n",
       "      <td>-74.255591</td>\n",
       "      <td>40.496115</td>\n",
       "      <td>-74.049236</td>\n",
       "      <td>40.648926</td>\n",
       "    </tr>\n",
       "    <tr>\n",
       "      <th>2</th>\n",
       "      <td>-74.047730</td>\n",
       "      <td>40.682917</td>\n",
       "      <td>-73.906651</td>\n",
       "      <td>40.879038</td>\n",
       "    </tr>\n",
       "    <tr>\n",
       "      <th>3</th>\n",
       "      <td>-74.041897</td>\n",
       "      <td>40.569530</td>\n",
       "      <td>-73.833559</td>\n",
       "      <td>40.739128</td>\n",
       "    </tr>\n",
       "    <tr>\n",
       "      <th>4</th>\n",
       "      <td>-73.962620</td>\n",
       "      <td>40.541834</td>\n",
       "      <td>-73.700009</td>\n",
       "      <td>40.801011</td>\n",
       "    </tr>\n",
       "  </tbody>\n",
       "</table>\n",
       "</div>"
      ],
      "text/plain": [
       "        minx       miny       maxx       maxy\n",
       "0 -73.933606  40.785357 -73.765332  40.915533\n",
       "1 -74.255591  40.496115 -74.049236  40.648926\n",
       "2 -74.047730  40.682917 -73.906651  40.879038\n",
       "3 -74.041897  40.569530 -73.833559  40.739128\n",
       "4 -73.962620  40.541834 -73.700009  40.801011"
      ]
     },
     "execution_count": 36,
     "metadata": {},
     "output_type": "execute_result"
    }
   ],
   "source": [
    "bounds_df"
   ]
  },
  {
   "cell_type": "markdown",
   "metadata": {},
   "source": [
    "Flag all the data outside the bounding box with a identifying tag"
   ]
  },
  {
   "cell_type": "code",
   "execution_count": 37,
   "metadata": {},
   "outputs": [],
   "source": [
    "df['bad_data_flag'] = np.where(df['pickup_latitude'] > maxlat, df['bad_data_flag'] + 'latitude above max ', df['bad_data_flag'])\n",
    "df['bad_data_flag'] = np.where(df['pickup_latitude'] < minlat, df['bad_data_flag'] + 'latitude below min ', df['bad_data_flag'])"
   ]
  },
  {
   "cell_type": "code",
   "execution_count": 38,
   "metadata": {},
   "outputs": [],
   "source": [
    "df['bad_data_flag'] = np.where(df['pickup_longitude'] > maxlong, df['bad_data_flag'] + 'longitude above max ', df['bad_data_flag'])\n",
    "df['bad_data_flag'] = np.where(df['pickup_longitude'] < minlong, df['bad_data_flag'] + 'longitude below min ', df['bad_data_flag'])"
   ]
  },
  {
   "cell_type": "code",
   "execution_count": 39,
   "metadata": {},
   "outputs": [],
   "source": [
    "df['bad_data_flag'] = np.where(df['dropoff_latitude'] > maxlat, df['bad_data_flag'] + 'latitude above max ', df['bad_data_flag'])\n",
    "df['bad_data_flag'] = np.where(df['dropoff_latitude'] < minlat, df['bad_data_flag'] + 'latitude below min ', df['bad_data_flag'])"
   ]
  },
  {
   "cell_type": "code",
   "execution_count": 40,
   "metadata": {},
   "outputs": [],
   "source": [
    "df['bad_data_flag'] = np.where(df['dropoff_longitude'] > maxlong, df['bad_data_flag'] + 'longitude above max ', df['bad_data_flag'])\n",
    "df['bad_data_flag'] = np.where(df['dropoff_longitude'] < minlong, df['bad_data_flag'] + 'longitude below min ', df['bad_data_flag'])"
   ]
  },
  {
   "cell_type": "code",
   "execution_count": 41,
   "metadata": {},
   "outputs": [
    {
     "data": {
      "text/plain": [
       "(113, 25)"
      ]
     },
     "execution_count": 41,
     "metadata": {},
     "output_type": "execute_result"
    }
   ],
   "source": [
    "df[df['bad_data_flag'] != ''].shape"
   ]
  },
  {
   "cell_type": "markdown",
   "metadata": {},
   "source": [
    "#### Bounding box got rid 11438 taxi trips which had any of their trip details start/end outside of the bounding box. "
   ]
  },
  {
   "cell_type": "markdown",
   "metadata": {},
   "source": [
    "#### We'll now operate on the leftover data."
   ]
  },
  {
   "cell_type": "code",
   "execution_count": 42,
   "metadata": {},
   "outputs": [],
   "source": [
    "df_after_bound = df[df['bad_data_flag'] == '']"
   ]
  },
  {
   "cell_type": "markdown",
   "metadata": {},
   "source": [
    "#### Get a list of the pickup points of every trip in a shapely.Point format so we can do polygonal comparison with the shapefile. Here we only use pickups because we are assuming that NYC taxis only pickup customers within the city limits."
   ]
  },
  {
   "cell_type": "code",
   "execution_count": 43,
   "metadata": {},
   "outputs": [],
   "source": [
    "geometry = [Point(xy) for xy in zip(df_after_bound['pickup_longitude'], df_after_bound['pickup_latitude'])]"
   ]
  },
  {
   "cell_type": "code",
   "execution_count": 44,
   "metadata": {},
   "outputs": [
    {
     "data": {
      "text/plain": [
       "shapely.geometry.point.Point"
      ]
     },
     "execution_count": 44,
     "metadata": {},
     "output_type": "execute_result"
    }
   ],
   "source": [
    "type(geometry[0])"
   ]
  },
  {
   "cell_type": "markdown",
   "metadata": {},
   "source": [
    "#### Turn the original data into a geodataframe with the previously calculated pickup points as the geometry for each trip. What we also do here is label each taxi trip with the name of the precinct in New York that the trip started. Trips that don't start inside the city will have a 'nan' in that place."
   ]
  },
  {
   "cell_type": "code",
   "execution_count": 45,
   "metadata": {},
   "outputs": [],
   "source": [
    "pickups = gpd.GeoDataFrame(df_after_bound, crs=shape.crs , geometry=geometry) #restict df_after_bound to relevant columns to save compute"
   ]
  },
  {
   "cell_type": "code",
   "execution_count": 46,
   "metadata": {},
   "outputs": [
    {
     "data": {
      "text/plain": [
       "geopandas.geodataframe.GeoDataFrame"
      ]
     },
     "execution_count": 46,
     "metadata": {},
     "output_type": "execute_result"
    }
   ],
   "source": [
    "type(pickups)"
   ]
  },
  {
   "cell_type": "code",
   "execution_count": 47,
   "metadata": {},
   "outputs": [],
   "source": [
    "pointInPolys = sjoin(pickups, shape, how='left',op=\"within\")"
   ]
  },
  {
   "cell_type": "code",
   "execution_count": 48,
   "metadata": {},
   "outputs": [],
   "source": [
    "out_points = pointInPolys['geometry'][pointInPolys['boro_name'].isnull()]"
   ]
  },
  {
   "cell_type": "code",
   "execution_count": 53,
   "metadata": {},
   "outputs": [
    {
     "data": {
      "image/png": "[encoded data removed]",
      "text/plain": [
       "<Figure size 432x288 with 1 Axes>"
      ]
     },
     "metadata": {
      "needs_background": "light"
     },
     "output_type": "display_data"
    }
   ],
   "source": [
    "fig, ax = plt.pyplot.subplots()\n",
    "shape.boundary.plot(ax=ax)\n",
    "out_points.head(1000).plot(ax=ax, color = 'green')\n",
    "plt.pyplot.show()"
   ]
  },
  {
   "cell_type": "code",
   "execution_count": 54,
   "metadata": {},
   "outputs": [
    {
     "data": {
      "image/png": "[encoded data removed]",
      "text/plain": [
       "<Figure size 432x288 with 1 Axes>"
      ]
     },
     "metadata": {
      "needs_background": "light"
     },
     "output_type": "display_data"
    }
   ],
   "source": [
    "fig, ax = plt.pyplot.subplots()\n",
    "shape.boundary.plot(ax=ax)\n",
    "gpd.GeoDataFrame(pointInPolys['geometry'][pointInPolys['boro_name'].notnull()].head(100000)).plot(ax = ax, color = 'red')\n",
    "plt.pyplot.show()"
   ]
  },
  {
   "cell_type": "markdown",
   "metadata": {},
   "source": [
    "Depending on the bounding box this method may be very accurate and could exactly meet a clients requirements and definitions. It would be possible for the client to even create their own particular boundary map to work with. However it costs a lot in compute due to the size of the data. This could be improved but"
   ]
  },
  {
   "cell_type": "code",
   "execution_count": 60,
   "metadata": {},
   "outputs": [
    {
     "data": {
      "text/plain": [
       "(150106, 31)"
      ]
     },
     "execution_count": 60,
     "metadata": {},
     "output_type": "execute_result"
    }
   ],
   "source": [
    "pointInPolys[pointInPolys['boro_name'].notnull()].shape"
   ]
  },
  {
   "cell_type": "code",
   "execution_count": 61,
   "metadata": {},
   "outputs": [
    {
     "data": {
      "text/plain": [
       "(150493, 25)"
      ]
     },
     "execution_count": 61,
     "metadata": {},
     "output_type": "execute_result"
    }
   ],
   "source": [
    "df.shape"
   ]
  },
  {
   "cell_type": "code",
   "execution_count": null,
   "metadata": {},
   "outputs": [],
   "source": []
  }
 ],
 "metadata": {
  "kernelspec": {
   "display_name": "Python 3",
   "language": "python",
   "name": "python3"
  },
  "language_info": {
   "codemirror_mode": {
    "name": "ipython",
    "version": 3
   },
   "file_extension": ".py",
   "mimetype": "text/x-python",
   "name": "python",
   "nbconvert_exporter": "python",
   "pygments_lexer": "ipython3",
   "version": "3.7.2"
  }
 },
 "nbformat": 4,
 "nbformat_minor": 4
}
